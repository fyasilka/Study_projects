{
 "cells": [
  {
   "cell_type": "code",
   "execution_count": 1,
   "metadata": {},
   "outputs": [],
   "source": [
    "import zipfile\n",
    "import pandas as pd"
   ]
  },
  {
   "cell_type": "code",
   "execution_count": 2,
   "metadata": {},
   "outputs": [],
   "source": [
    "with zipfile.ZipFile('../datasets/client_info.csv.zip', 'r') as zip_ref:\n",
    "    zip_ref.extractall('../datasets')"
   ]
  },
  {
   "cell_type": "code",
   "execution_count": 81,
   "metadata": {
    "id": "dxhM1MLjPc31"
   },
   "outputs": [],
   "source": [
    "df = pd.read_csv('../datasets/client_info.csv')"
   ]
  },
  {
   "cell_type": "code",
   "execution_count": 82,
   "metadata": {},
   "outputs": [],
   "source": [
    "df = df.set_index('ID')"
   ]
  },
  {
   "cell_type": "code",
   "execution_count": 83,
   "metadata": {},
   "outputs": [
    {
     "data": {
      "text/html": [
       "<div>\n",
       "<style scoped>\n",
       "    .dataframe tbody tr th:only-of-type {\n",
       "        vertical-align: middle;\n",
       "    }\n",
       "\n",
       "    .dataframe tbody tr th {\n",
       "        vertical-align: top;\n",
       "    }\n",
       "\n",
       "    .dataframe thead th {\n",
       "        text-align: right;\n",
       "    }\n",
       "</style>\n",
       "<table border=\"1\" class=\"dataframe\">\n",
       "  <thead>\n",
       "    <tr style=\"text-align: right;\">\n",
       "      <th></th>\n",
       "      <th>CR_PROD_CNT_IL</th>\n",
       "      <th>AMOUNT_RUB_CLO_PRC</th>\n",
       "      <th>APP_REGISTR_RGN_CODE</th>\n",
       "      <th>TURNOVER_DYNAMIC_IL_1M</th>\n",
       "      <th>LDEAL_YQZ_COM_GROUP</th>\n",
       "      <th>LDEAL_YQZ_CHRG_GROUP</th>\n",
       "      <th>AVG_PCT_MONTH_TO_PCLOSE_GROUP</th>\n",
       "      <th>MAX_PCLOSE_DATE_GROUP</th>\n",
       "      <th>AVG_PCT_DEBT_TO_DEAL_AMT_GROUP</th>\n",
       "      <th>LDEAL_AMT_MONTH_GROUP</th>\n",
       "      <th>...</th>\n",
       "      <th>CLNT_SETUP_TENOR</th>\n",
       "      <th>TURNOVER_DYNAMIC_PAYM_3M</th>\n",
       "      <th>TURNOVER_DYNAMIC_PAYM_1M</th>\n",
       "      <th>TRANS_AMOUNT_TENDENCY3M</th>\n",
       "      <th>TRANS_CNT_TENDENCY3M</th>\n",
       "      <th>REST_DYNAMIC_CC_1M</th>\n",
       "      <th>TURNOVER_DYNAMIC_CC_1M</th>\n",
       "      <th>REST_DYNAMIC_CC_3M</th>\n",
       "      <th>TURNOVER_DYNAMIC_CC_3M</th>\n",
       "      <th>TARGET</th>\n",
       "    </tr>\n",
       "    <tr>\n",
       "      <th>ID</th>\n",
       "      <th></th>\n",
       "      <th></th>\n",
       "      <th></th>\n",
       "      <th></th>\n",
       "      <th></th>\n",
       "      <th></th>\n",
       "      <th></th>\n",
       "      <th></th>\n",
       "      <th></th>\n",
       "      <th></th>\n",
       "      <th></th>\n",
       "      <th></th>\n",
       "      <th></th>\n",
       "      <th></th>\n",
       "      <th></th>\n",
       "      <th></th>\n",
       "      <th></th>\n",
       "      <th></th>\n",
       "      <th></th>\n",
       "      <th></th>\n",
       "      <th></th>\n",
       "    </tr>\n",
       "  </thead>\n",
       "  <tbody>\n",
       "    <tr>\n",
       "      <th>146841</th>\n",
       "      <td>0</td>\n",
       "      <td>0.000000</td>\n",
       "      <td>неизвестна</td>\n",
       "      <td>0.0</td>\n",
       "      <td>неизвестна</td>\n",
       "      <td>неизвестна</td>\n",
       "      <td>неизвестна</td>\n",
       "      <td>неизвестна</td>\n",
       "      <td>неизвестна</td>\n",
       "      <td>неизвестна</td>\n",
       "      <td>...</td>\n",
       "      <td>1.593023</td>\n",
       "      <td>0.0</td>\n",
       "      <td>0.0</td>\n",
       "      <td>0.483032</td>\n",
       "      <td>0.406780</td>\n",
       "      <td>0.0</td>\n",
       "      <td>0.0</td>\n",
       "      <td>0.0</td>\n",
       "      <td>0.0</td>\n",
       "      <td>0</td>\n",
       "    </tr>\n",
       "    <tr>\n",
       "      <th>146842</th>\n",
       "      <td>0</td>\n",
       "      <td>0.041033</td>\n",
       "      <td>неизвестна</td>\n",
       "      <td>0.0</td>\n",
       "      <td>неизвестна</td>\n",
       "      <td>неизвестна</td>\n",
       "      <td>неизвестна</td>\n",
       "      <td>неизвестна</td>\n",
       "      <td>неизвестна</td>\n",
       "      <td>неизвестна</td>\n",
       "      <td>...</td>\n",
       "      <td>1.587647</td>\n",
       "      <td>0.0</td>\n",
       "      <td>0.0</td>\n",
       "      <td>0.394340</td>\n",
       "      <td>0.545455</td>\n",
       "      <td>0.0</td>\n",
       "      <td>0.0</td>\n",
       "      <td>0.0</td>\n",
       "      <td>0.0</td>\n",
       "      <td>0</td>\n",
       "    </tr>\n",
       "  </tbody>\n",
       "</table>\n",
       "<p>2 rows × 104 columns</p>\n",
       "</div>"
      ],
      "text/plain": [
       "        CR_PROD_CNT_IL  AMOUNT_RUB_CLO_PRC APP_REGISTR_RGN_CODE   \n",
       "ID                                                                \n",
       "146841               0            0.000000           неизвестна  \\\n",
       "146842               0            0.041033           неизвестна   \n",
       "\n",
       "        TURNOVER_DYNAMIC_IL_1M LDEAL_YQZ_COM_GROUP LDEAL_YQZ_CHRG_GROUP   \n",
       "ID                                                                        \n",
       "146841                     0.0          неизвестна           неизвестна  \\\n",
       "146842                     0.0          неизвестна           неизвестна   \n",
       "\n",
       "       AVG_PCT_MONTH_TO_PCLOSE_GROUP MAX_PCLOSE_DATE_GROUP   \n",
       "ID                                                           \n",
       "146841                    неизвестна            неизвестна  \\\n",
       "146842                    неизвестна            неизвестна   \n",
       "\n",
       "       AVG_PCT_DEBT_TO_DEAL_AMT_GROUP LDEAL_AMT_MONTH_GROUP  ...   \n",
       "ID                                                           ...   \n",
       "146841                     неизвестна            неизвестна  ...  \\\n",
       "146842                     неизвестна            неизвестна  ...   \n",
       "\n",
       "       CLNT_SETUP_TENOR TURNOVER_DYNAMIC_PAYM_3M TURNOVER_DYNAMIC_PAYM_1M   \n",
       "ID                                                                          \n",
       "146841         1.593023                      0.0                      0.0  \\\n",
       "146842         1.587647                      0.0                      0.0   \n",
       "\n",
       "       TRANS_AMOUNT_TENDENCY3M TRANS_CNT_TENDENCY3M REST_DYNAMIC_CC_1M   \n",
       "ID                                                                       \n",
       "146841                0.483032             0.406780                0.0  \\\n",
       "146842                0.394340             0.545455                0.0   \n",
       "\n",
       "       TURNOVER_DYNAMIC_CC_1M REST_DYNAMIC_CC_3M TURNOVER_DYNAMIC_CC_3M TARGET  \n",
       "ID                                                                              \n",
       "146841                    0.0                0.0                    0.0      0  \n",
       "146842                    0.0                0.0                    0.0      0  \n",
       "\n",
       "[2 rows x 104 columns]"
      ]
     },
     "execution_count": 83,
     "metadata": {},
     "output_type": "execute_result"
    }
   ],
   "source": [
    "df.head(2)"
   ]
  },
  {
   "cell_type": "code",
   "execution_count": 84,
   "metadata": {},
   "outputs": [
    {
     "name": "stdout",
     "output_type": "stream",
     "text": [
      "Размерность Y (355190, 1)\n"
     ]
    }
   ],
   "source": [
    "Y = df[['TARGET']].copy()\n",
    "print('Размерность Y', Y.shape)"
   ]
  },
  {
   "cell_type": "code",
   "execution_count": 85,
   "metadata": {},
   "outputs": [
    {
     "name": "stdout",
     "output_type": "stream",
     "text": [
      "Размерность x (355190, 103)\n"
     ]
    }
   ],
   "source": [
    "x_df = df.drop('TARGET',axis=1)\n",
    "print('Размерность x', x_df.shape)"
   ]
  },
  {
   "cell_type": "code",
   "execution_count": 86,
   "metadata": {},
   "outputs": [
    {
     "name": "stdout",
     "output_type": "stream",
     "text": [
      "Количественных переменных: 47\n"
     ]
    }
   ],
   "source": [
    "X_num = x_df.select_dtypes(exclude='object')\n",
    "print('Количественных переменных:', X_num.shape[-1])"
   ]
  },
  {
   "cell_type": "code",
   "execution_count": 87,
   "metadata": {},
   "outputs": [
    {
     "name": "stdout",
     "output_type": "stream",
     "text": [
      "Категориальных переменных: 56\n"
     ]
    }
   ],
   "source": [
    "X_cat = x_df.select_dtypes(include='object')\n",
    "print('Категориальных переменных:', X_cat.shape[-1])"
   ]
  },
  {
   "cell_type": "code",
   "execution_count": 88,
   "metadata": {},
   "outputs": [
    {
     "data": {
      "text/plain": [
       "array([[-0.24393221, -0.38023161, -0.04482367, ..., -0.03230285,\n",
       "        -0.10961305, -0.07198831],\n",
       "       [-0.24393221,  0.01683471, -0.04482367, ..., -0.03230285,\n",
       "        -0.10961305, -0.07198831],\n",
       "       [-0.24393221, -0.31331349, -0.04482367, ..., -0.03230285,\n",
       "        -0.10961305, -0.07198831],\n",
       "       ...,\n",
       "       [-0.24393221,  0.019401  , -0.04482367, ..., -0.03230285,\n",
       "        -0.10961305, -0.07198831],\n",
       "       [-0.24393221, -0.38023161, -0.04482367, ..., -0.03230285,\n",
       "        -0.10961305, -0.07198831],\n",
       "       [-0.24393221, -0.38023161, -0.04482367, ..., -0.03230285,\n",
       "        -0.10961305, -0.07198831]])"
      ]
     },
     "execution_count": 88,
     "metadata": {},
     "output_type": "execute_result"
    }
   ],
   "source": [
    "from sklearn.preprocessing import StandardScaler\n",
    "scaler = StandardScaler()\n",
    "X_num_scal = scaler.fit_transform(X_num) #сделаем стандартизацию наших признаков\n",
    "X_num_scal\n"
   ]
  },
  {
   "cell_type": "code",
   "execution_count": 89,
   "metadata": {},
   "outputs": [],
   "source": [
    "X_num_scal = pd.DataFrame(X_num_scal, columns=X_num.columns.tolist(), index=X_num.index)"
   ]
  },
  {
   "cell_type": "code",
   "execution_count": 90,
   "metadata": {},
   "outputs": [
    {
     "name": "stdout",
     "output_type": "stream",
     "text": [
      "Среднее отклонение:\n",
      "CR_PROD_CNT_IL              0.0\n",
      "AMOUNT_RUB_CLO_PRC          0.0\n",
      "TURNOVER_DYNAMIC_IL_1M     -0.0\n",
      "AMOUNT_RUB_SUP_PRC          0.0\n",
      "REST_DYNAMIC_FDEP_1M        0.0\n",
      "REST_DYNAMIC_SAVE_3M       -0.0\n",
      "CR_PROD_CNT_VCU            -0.0\n",
      "REST_AVG_CUR               -0.0\n",
      "AMOUNT_RUB_NAS_PRC          0.0\n",
      "TRANS_COUNT_SUP_PRC        -0.0\n",
      "TRANS_COUNT_NAS_PRC         0.0\n",
      "CR_PROD_CNT_TOVR           -0.0\n",
      "CR_PROD_CNT_PIL            -0.0\n",
      "TURNOVER_CC                 0.0\n",
      "TRANS_COUNT_ATM_PRC         0.0\n",
      "AMOUNT_RUB_ATM_PRC          0.0\n",
      "TURNOVER_PAYM              -0.0\n",
      "AGE                         0.0\n",
      "CR_PROD_CNT_CC              0.0\n",
      "REST_DYNAMIC_FDEP_3M       -0.0\n",
      "REST_DYNAMIC_IL_1M          0.0\n",
      "CR_PROD_CNT_CCFP            0.0\n",
      "REST_DYNAMIC_CUR_1M        -0.0\n",
      "REST_AVG_PAYM              -0.0\n",
      "LDEAL_GRACE_DAYS_PCT_MED   -0.0\n",
      "REST_DYNAMIC_CUR_3M         0.0\n",
      "CNT_TRAN_SUP_TENDENCY3M     0.0\n",
      "TURNOVER_DYNAMIC_CUR_1M    -0.0\n",
      "REST_DYNAMIC_PAYM_3M        0.0\n",
      "SUM_TRAN_SUP_TENDENCY3M     0.0\n",
      "REST_DYNAMIC_IL_3M          0.0\n",
      "CNT_TRAN_ATM_TENDENCY3M     0.0\n",
      "CNT_TRAN_ATM_TENDENCY1M    -0.0\n",
      "TURNOVER_DYNAMIC_IL_3M     -0.0\n",
      "SUM_TRAN_ATM_TENDENCY3M    -0.0\n",
      "SUM_TRAN_ATM_TENDENCY1M    -0.0\n",
      "REST_DYNAMIC_PAYM_1M       -0.0\n",
      "TURNOVER_DYNAMIC_CUR_3M    -0.0\n",
      "CLNT_SETUP_TENOR           -0.0\n",
      "TURNOVER_DYNAMIC_PAYM_3M   -0.0\n",
      "TURNOVER_DYNAMIC_PAYM_1M   -0.0\n",
      "TRANS_AMOUNT_TENDENCY3M    -0.0\n",
      "TRANS_CNT_TENDENCY3M       -0.0\n",
      "REST_DYNAMIC_CC_1M         -0.0\n",
      "TURNOVER_DYNAMIC_CC_1M     -0.0\n",
      "REST_DYNAMIC_CC_3M          0.0\n",
      "TURNOVER_DYNAMIC_CC_3M      0.0\n",
      "dtype: float64\n"
     ]
    }
   ],
   "source": [
    "print('Среднее отклонение:', X_num_scal.mean(axis = 0).round(2), sep=\"\\n\")"
   ]
  },
  {
   "cell_type": "code",
   "execution_count": 91,
   "metadata": {},
   "outputs": [
    {
     "name": "stdout",
     "output_type": "stream",
     "text": [
      "Стандартное отклонение:\n",
      "CR_PROD_CNT_IL              1.0\n",
      "AMOUNT_RUB_CLO_PRC          1.0\n",
      "TURNOVER_DYNAMIC_IL_1M      1.0\n",
      "AMOUNT_RUB_SUP_PRC          1.0\n",
      "REST_DYNAMIC_FDEP_1M        1.0\n",
      "REST_DYNAMIC_SAVE_3M        1.0\n",
      "CR_PROD_CNT_VCU             1.0\n",
      "REST_AVG_CUR                1.0\n",
      "AMOUNT_RUB_NAS_PRC          1.0\n",
      "TRANS_COUNT_SUP_PRC         1.0\n",
      "TRANS_COUNT_NAS_PRC         1.0\n",
      "CR_PROD_CNT_TOVR            1.0\n",
      "CR_PROD_CNT_PIL             1.0\n",
      "TURNOVER_CC                 1.0\n",
      "TRANS_COUNT_ATM_PRC         1.0\n",
      "AMOUNT_RUB_ATM_PRC          1.0\n",
      "TURNOVER_PAYM               1.0\n",
      "AGE                         1.0\n",
      "CR_PROD_CNT_CC              1.0\n",
      "REST_DYNAMIC_FDEP_3M        1.0\n",
      "REST_DYNAMIC_IL_1M          1.0\n",
      "CR_PROD_CNT_CCFP            1.0\n",
      "REST_DYNAMIC_CUR_1M         1.0\n",
      "REST_AVG_PAYM               1.0\n",
      "LDEAL_GRACE_DAYS_PCT_MED    1.0\n",
      "REST_DYNAMIC_CUR_3M         1.0\n",
      "CNT_TRAN_SUP_TENDENCY3M     1.0\n",
      "TURNOVER_DYNAMIC_CUR_1M     1.0\n",
      "REST_DYNAMIC_PAYM_3M        1.0\n",
      "SUM_TRAN_SUP_TENDENCY3M     1.0\n",
      "REST_DYNAMIC_IL_3M          1.0\n",
      "CNT_TRAN_ATM_TENDENCY3M     1.0\n",
      "CNT_TRAN_ATM_TENDENCY1M     1.0\n",
      "TURNOVER_DYNAMIC_IL_3M      1.0\n",
      "SUM_TRAN_ATM_TENDENCY3M     1.0\n",
      "SUM_TRAN_ATM_TENDENCY1M     1.0\n",
      "REST_DYNAMIC_PAYM_1M        1.0\n",
      "TURNOVER_DYNAMIC_CUR_3M     1.0\n",
      "CLNT_SETUP_TENOR            1.0\n",
      "TURNOVER_DYNAMIC_PAYM_3M    1.0\n",
      "TURNOVER_DYNAMIC_PAYM_1M    1.0\n",
      "TRANS_AMOUNT_TENDENCY3M     1.0\n",
      "TRANS_CNT_TENDENCY3M        1.0\n",
      "REST_DYNAMIC_CC_1M          1.0\n",
      "TURNOVER_DYNAMIC_CC_1M      1.0\n",
      "REST_DYNAMIC_CC_3M          1.0\n",
      "TURNOVER_DYNAMIC_CC_3M      1.0\n",
      "dtype: float64\n"
     ]
    }
   ],
   "source": [
    "print('Стандартное отклонение:', X_num_scal.std(axis = 0).round(2), sep=\"\\n\")"
   ]
  },
  {
   "cell_type": "code",
   "execution_count": 92,
   "metadata": {},
   "outputs": [],
   "source": [
    "#удаляю признак\n",
    "cols_to_drop = ['CLNT_JOB_POSITION']\n",
    "X_cat_ohe = X_cat.drop(cols_to_drop, axis=1)"
   ]
  },
  {
   "cell_type": "code",
   "execution_count": 93,
   "metadata": {},
   "outputs": [],
   "source": [
    "#from sklearn.preprocessing import OneHotEncoder\n",
    "#X_cat_ohe = pd.DataFrame(OneHotEncoder(sparse_output = False, handle_unknown = \"ignore\").fit_transform(X_cat_ohe), index=X_num.index)\n",
    "#X_cat_ohe.shape"
   ]
  },
  {
   "cell_type": "code",
   "execution_count": 94,
   "metadata": {},
   "outputs": [],
   "source": [
    "from sklearn. preprocessing import OneHotEncoder\n",
    "encoder = OneHotEncoder(handle_unknown='ignore')\n",
    "X_cat_ohe = encoder.fit_transform(X_cat_ohe)\n",
    "X_cat_ohe = pd.DataFrame(X_cat_ohe.toarray(), columns = encoder.get_feature_names_out(), index=X_num.index)\n",
    "#X_cat_ohe.shape"
   ]
  },
  {
   "cell_type": "code",
   "execution_count": 95,
   "metadata": {},
   "outputs": [
    {
     "name": "stdout",
     "output_type": "stream",
     "text": [
      "Количество колонок 323\n"
     ]
    }
   ],
   "source": [
    "col_count= len (X_cat_ohe. columns)\n",
    "print('Количество колонок', col_count)"
   ]
  },
  {
   "cell_type": "code",
   "execution_count": 96,
   "metadata": {},
   "outputs": [],
   "source": [
    "X_num_scal.columns = X_num_scal.columns.astype(str)\n",
    "X_cat_ohe.columns = X_cat_ohe.columns.astype(str)"
   ]
  },
  {
   "cell_type": "code",
   "execution_count": 97,
   "metadata": {},
   "outputs": [],
   "source": [
    "#пробую join\n",
    "#X_ready = X_num_scal.join(X_cat_ohe)\n",
    "#X_ready.info()"
   ]
  },
  {
   "cell_type": "code",
   "execution_count": 98,
   "metadata": {},
   "outputs": [],
   "source": [
    "#пробую concat\n",
    "X_ready = pd.concat([X_num_scal, X_cat_ohe], axis = 1) "
   ]
  },
  {
   "cell_type": "code",
   "execution_count": 99,
   "metadata": {},
   "outputs": [],
   "source": [
    "#X_ready.to_csv('data_prepared.csv')"
   ]
  },
  {
   "cell_type": "code",
   "execution_count": 100,
   "metadata": {},
   "outputs": [
    {
     "data": {
      "text/html": [
       "<div>\n",
       "<style scoped>\n",
       "    .dataframe tbody tr th:only-of-type {\n",
       "        vertical-align: middle;\n",
       "    }\n",
       "\n",
       "    .dataframe tbody tr th {\n",
       "        vertical-align: top;\n",
       "    }\n",
       "\n",
       "    .dataframe thead th {\n",
       "        text-align: right;\n",
       "    }\n",
       "</style>\n",
       "<table border=\"1\" class=\"dataframe\">\n",
       "  <thead>\n",
       "    <tr style=\"text-align: right;\">\n",
       "      <th></th>\n",
       "      <th>CR_PROD_CNT_IL</th>\n",
       "      <th>AMOUNT_RUB_CLO_PRC</th>\n",
       "      <th>TURNOVER_DYNAMIC_IL_1M</th>\n",
       "      <th>AMOUNT_RUB_SUP_PRC</th>\n",
       "      <th>REST_DYNAMIC_FDEP_1M</th>\n",
       "      <th>REST_DYNAMIC_SAVE_3M</th>\n",
       "      <th>CR_PROD_CNT_VCU</th>\n",
       "      <th>REST_AVG_CUR</th>\n",
       "      <th>AMOUNT_RUB_NAS_PRC</th>\n",
       "      <th>TRANS_COUNT_SUP_PRC</th>\n",
       "      <th>...</th>\n",
       "      <th>PACK_103</th>\n",
       "      <th>PACK_104</th>\n",
       "      <th>PACK_105</th>\n",
       "      <th>PACK_107</th>\n",
       "      <th>PACK_108</th>\n",
       "      <th>PACK_109</th>\n",
       "      <th>PACK_301</th>\n",
       "      <th>PACK_k01</th>\n",
       "      <th>PACK_m01</th>\n",
       "      <th>PACK_o01</th>\n",
       "    </tr>\n",
       "    <tr>\n",
       "      <th>ID</th>\n",
       "      <th></th>\n",
       "      <th></th>\n",
       "      <th></th>\n",
       "      <th></th>\n",
       "      <th></th>\n",
       "      <th></th>\n",
       "      <th></th>\n",
       "      <th></th>\n",
       "      <th></th>\n",
       "      <th></th>\n",
       "      <th></th>\n",
       "      <th></th>\n",
       "      <th></th>\n",
       "      <th></th>\n",
       "      <th></th>\n",
       "      <th></th>\n",
       "      <th></th>\n",
       "      <th></th>\n",
       "      <th></th>\n",
       "      <th></th>\n",
       "      <th></th>\n",
       "    </tr>\n",
       "  </thead>\n",
       "  <tbody>\n",
       "    <tr>\n",
       "      <th>146841</th>\n",
       "      <td>-0.243932</td>\n",
       "      <td>-0.380232</td>\n",
       "      <td>-0.044824</td>\n",
       "      <td>-0.582347</td>\n",
       "      <td>-0.05133</td>\n",
       "      <td>2.356500</td>\n",
       "      <td>-0.169589</td>\n",
       "      <td>0.477531</td>\n",
       "      <td>-0.248485</td>\n",
       "      <td>-1.004598</td>\n",
       "      <td>...</td>\n",
       "      <td>0.0</td>\n",
       "      <td>0.0</td>\n",
       "      <td>0.0</td>\n",
       "      <td>0.0</td>\n",
       "      <td>0.0</td>\n",
       "      <td>0.0</td>\n",
       "      <td>0.0</td>\n",
       "      <td>1.0</td>\n",
       "      <td>0.0</td>\n",
       "      <td>0.0</td>\n",
       "    </tr>\n",
       "    <tr>\n",
       "      <th>146842</th>\n",
       "      <td>-0.243932</td>\n",
       "      <td>0.016835</td>\n",
       "      <td>-0.044824</td>\n",
       "      <td>1.221828</td>\n",
       "      <td>-0.05133</td>\n",
       "      <td>-0.312371</td>\n",
       "      <td>-0.169589</td>\n",
       "      <td>-0.330458</td>\n",
       "      <td>-0.248485</td>\n",
       "      <td>1.446347</td>\n",
       "      <td>...</td>\n",
       "      <td>0.0</td>\n",
       "      <td>0.0</td>\n",
       "      <td>0.0</td>\n",
       "      <td>0.0</td>\n",
       "      <td>0.0</td>\n",
       "      <td>0.0</td>\n",
       "      <td>0.0</td>\n",
       "      <td>0.0</td>\n",
       "      <td>0.0</td>\n",
       "      <td>0.0</td>\n",
       "    </tr>\n",
       "  </tbody>\n",
       "</table>\n",
       "<p>2 rows × 370 columns</p>\n",
       "</div>"
      ],
      "text/plain": [
       "        CR_PROD_CNT_IL  AMOUNT_RUB_CLO_PRC  TURNOVER_DYNAMIC_IL_1M   \n",
       "ID                                                                   \n",
       "146841       -0.243932           -0.380232               -0.044824  \\\n",
       "146842       -0.243932            0.016835               -0.044824   \n",
       "\n",
       "        AMOUNT_RUB_SUP_PRC  REST_DYNAMIC_FDEP_1M  REST_DYNAMIC_SAVE_3M   \n",
       "ID                                                                       \n",
       "146841           -0.582347              -0.05133              2.356500  \\\n",
       "146842            1.221828              -0.05133             -0.312371   \n",
       "\n",
       "        CR_PROD_CNT_VCU  REST_AVG_CUR  AMOUNT_RUB_NAS_PRC   \n",
       "ID                                                          \n",
       "146841        -0.169589      0.477531           -0.248485  \\\n",
       "146842        -0.169589     -0.330458           -0.248485   \n",
       "\n",
       "        TRANS_COUNT_SUP_PRC  ...  PACK_103  PACK_104  PACK_105  PACK_107   \n",
       "ID                           ...                                           \n",
       "146841            -1.004598  ...       0.0       0.0       0.0       0.0  \\\n",
       "146842             1.446347  ...       0.0       0.0       0.0       0.0   \n",
       "\n",
       "        PACK_108  PACK_109  PACK_301  PACK_k01  PACK_m01  PACK_o01  \n",
       "ID                                                                  \n",
       "146841       0.0       0.0       0.0       1.0       0.0       0.0  \n",
       "146842       0.0       0.0       0.0       0.0       0.0       0.0  \n",
       "\n",
       "[2 rows x 370 columns]"
      ]
     },
     "execution_count": 100,
     "metadata": {},
     "output_type": "execute_result"
    }
   ],
   "source": [
    "X_ready.head(2)"
   ]
  },
  {
   "cell_type": "code",
   "execution_count": 101,
   "metadata": {},
   "outputs": [],
   "source": [
    "#from sklearn.linear_model import LinearRegression\n",
    "from sklearn.model_selection import train_test_split\n",
    " \n",
    "#df = pd.read_csv('../datasets/data_prepared.csv')\n",
    "#X_ready = df.iloc[:, :-1]\n",
    "#y = df.iloc[:, -1]\n",
    " \n",
    "X_train, X_test, y_train, y_test = train_test_split(X_ready, Y, test_size=0.2, random_state=21)"
   ]
  },
  {
   "cell_type": "code",
   "execution_count": 102,
   "metadata": {},
   "outputs": [
    {
     "name": "stdout",
     "output_type": "stream",
     "text": [
      "Размерность обучающей выборки (284152, 370)\n"
     ]
    }
   ],
   "source": [
    "print('Размерность обучающей выборки', X_train.shape)"
   ]
  },
  {
   "cell_type": "code",
   "execution_count": 54,
   "metadata": {},
   "outputs": [],
   "source": [
    "from sklearn.linear_model import LogisticRegression\n",
    "LRG = LogisticRegression(solver='liblinear', fit_intercept=False, penalty='l1', random_state=21)\n",
    "LRG = LRG.fit(X_train, y_train.values.ravel())"
   ]
  },
  {
   "cell_type": "code",
   "execution_count": 103,
   "metadata": {},
   "outputs": [],
   "source": [
    "y_pred = LRG.predict(X_test)"
   ]
  },
  {
   "cell_type": "code",
   "execution_count": 104,
   "metadata": {},
   "outputs": [
    {
     "name": "stdout",
     "output_type": "stream",
     "text": [
      "Значение accuracy модели на тестовой выборке: 91.97612545398238\n"
     ]
    }
   ],
   "source": [
    "accuracy = LRG.score(X_test, y_test)\n",
    "print('Значение accuracy модели на тестовой выборке:', accuracy * 100)"
   ]
  },
  {
   "cell_type": "code",
   "execution_count": 105,
   "metadata": {},
   "outputs": [],
   "source": [
    "#import numpy\n",
    "#import sklearn.metrics\n",
    "#r = sklearn.metrics.confusion_matrix(y_test, y_pred)\n",
    "#r = numpy.flip(r)\n",
    "#acc = (r[0][0] + r[-1][-1]) / numpy.sum(r)\n",
    "#print(acc)"
   ]
  },
  {
   "cell_type": "code",
   "execution_count": 106,
   "metadata": {},
   "outputs": [],
   "source": [
    "#from sklearn import metrics\n",
    "#print(metrics.accuracy_score(y_test, y_pred))"
   ]
  },
  {
   "cell_type": "code",
   "execution_count": 107,
   "metadata": {},
   "outputs": [
    {
     "name": "stdout",
     "output_type": "stream",
     "text": [
      "Процент клиентов с индикатором оттока равным 0: 91.96064078380584\n"
     ]
    }
   ],
   "source": [
    "print('Процент клиентов с индикатором оттока равным 0:', y_test.value_counts()[0]/len(y_test)*100)"
   ]
  },
  {
   "cell_type": "code",
   "execution_count": 108,
   "metadata": {},
   "outputs": [
    {
     "name": "stdout",
     "output_type": "stream",
     "text": [
      "Значение accuracy модели на тестовой выборке: 91.97612545398238\n"
     ]
    }
   ],
   "source": [
    "accuracy = LRG.score(X_test, y_test)\n",
    "print('Значение accuracy модели на тестовой выборке:', accuracy * 100)"
   ]
  },
  {
   "cell_type": "code",
   "execution_count": 109,
   "metadata": {},
   "outputs": [
    {
     "data": {
      "text/plain": [
       "Text(0.5, 1.0, 'Топ-10 наиболее важных факторов')"
      ]
     },
     "execution_count": 109,
     "metadata": {},
     "output_type": "execute_result"
    },
    {
     "data": {
      "image/png": "[encoded data removed]",
      "text/plain": [
       "<Figure size 640x480 with 1 Axes>"
      ]
     },
     "metadata": {},
     "output_type": "display_data"
    }
   ],
   "source": [
    "import numpy as np\n",
    "import pandas as pd\n",
    "import matplotlib.pyplot as plt\n",
    "import seaborn as sns\n",
    "\n",
    "attribute_lst = X_ready.columns.tolist()\n",
    "attribute_df = pd.DataFrame(attribute_lst, columns = ['attribute_name'])\n",
    "coef_df = pd.DataFrame(np.abs(LRG.coef_).T, columns = ['attribute_meaning'])\n",
    "result_df = pd.concat([attribute_df, coef_df], axis = 1)\n",
    "data = result_df.sort_values('attribute_meaning', ascending = False)[:10]\n",
    "sns.barplot(x = data['attribute_meaning'], y = data['attribute_name'], orient = 'h', color = \"green\")\n",
    "plt.xlabel('Значимость фактора')\n",
    "plt.xticks(rotation = 30)\n",
    "plt.ylabel('Фактор')\n",
    "plt.title('Топ-10 наиболее важных факторов')"
   ]
  },
  {
   "cell_type": "code",
   "execution_count": null,
   "metadata": {},
   "outputs": [],
   "source": []
  }
 ],
 "metadata": {
  "colab": {
   "collapsed_sections": [
    "KPtcdkJ3Pc4I"
   ],
   "name": "d02_task.ipynb",
   "provenance": []
  },
  "kernelspec": {
   "display_name": "Python 3 (ipykernel)",
   "language": "python",
   "name": "python3"
  },
  "language_info": {
   "codemirror_mode": {
    "name": "ipython",
    "version": 3
   },
   "file_extension": ".py",
   "mimetype": "text/x-python",
   "name": "python",
   "nbconvert_exporter": "python",
   "pygments_lexer": "ipython3",
   "version": "3.10.11"
  }
 },
 "nbformat": 4,
 "nbformat_minor": 4
}
