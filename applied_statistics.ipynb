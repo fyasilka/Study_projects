{
 "cells": [
  {
   "cell_type": "markdown",
   "id": "7da6badd",
   "metadata": {},
   "source": [
    "# Задания"
   ]
  },
  {
   "cell_type": "code",
   "execution_count": 1,
   "id": "a5684e7c",
   "metadata": {},
   "outputs": [],
   "source": [
    "import numpy as np\n",
    "import pandas as pd\n",
    "import matplotlib.pyplot as plt"
   ]
  },
  {
   "cell_type": "code",
   "execution_count": 39,
   "id": "08c074a2",
   "metadata": {},
   "outputs": [],
   "source": [
    "df = pd.read_csv('../datasets/pizza.csv', sep = ';')"
   ]
  },
  {
   "cell_type": "code",
   "execution_count": 40,
   "id": "fb60f8ab",
   "metadata": {},
   "outputs": [],
   "source": [
    "import re"
   ]
  },
  {
   "cell_type": "code",
   "execution_count": 41,
   "id": "15d271be",
   "metadata": {},
   "outputs": [],
   "source": [
    "r = r'(Mozzarella Cheese)'"
   ]
  },
  {
   "cell_type": "code",
   "execution_count": 42,
   "id": "81b87d6d",
   "metadata": {},
   "outputs": [],
   "source": [
    "obr = df['pizza_ingredients'].apply(lambda x: re.search(r, str(x).lower()))"
   ]
  },
  {
   "cell_type": "code",
   "execution_count": 43,
   "id": "552091e8",
   "metadata": {},
   "outputs": [],
   "source": [
    "itog = np.any(np.array([~obr.isnull()]), axis=0)"
   ]
  },
  {
   "cell_type": "code",
   "execution_count": 44,
   "id": "ac3aa38d",
   "metadata": {},
   "outputs": [],
   "source": [
    "new_df = df[itog]"
   ]
  },
  {
   "cell_type": "code",
   "execution_count": 45,
   "id": "26d1bf5d",
   "metadata": {},
   "outputs": [
    {
     "data": {
      "text/html": [
       "<div>\n",
       "<style scoped>\n",
       "    .dataframe tbody tr th:only-of-type {\n",
       "        vertical-align: middle;\n",
       "    }\n",
       "\n",
       "    .dataframe tbody tr th {\n",
       "        vertical-align: top;\n",
       "    }\n",
       "\n",
       "    .dataframe thead th {\n",
       "        text-align: right;\n",
       "    }\n",
       "</style>\n",
       "<table border=\"1\" class=\"dataframe\">\n",
       "  <thead>\n",
       "    <tr style=\"text-align: right;\">\n",
       "      <th></th>\n",
       "      <th>order_details_id</th>\n",
       "      <th>order_id</th>\n",
       "      <th>pizza_id</th>\n",
       "      <th>order_date</th>\n",
       "      <th>order_time</th>\n",
       "      <th>unit_price</th>\n",
       "      <th>total_price</th>\n",
       "      <th>pizza_size</th>\n",
       "      <th>pizza_category</th>\n",
       "      <th>pizza_ingredients</th>\n",
       "      <th>pizza_name</th>\n",
       "      <th>lead_time</th>\n",
       "    </tr>\n",
       "  </thead>\n",
       "  <tbody>\n",
       "  </tbody>\n",
       "</table>\n",
       "</div>"
      ],
      "text/plain": [
       "Empty DataFrame\n",
       "Columns: [order_details_id, order_id, pizza_id, order_date, order_time, unit_price, total_price, pizza_size, pizza_category, pizza_ingredients, pizza_name, lead_time]\n",
       "Index: []"
      ]
     },
     "execution_count": 45,
     "metadata": {},
     "output_type": "execute_result"
    }
   ],
   "source": [
    "new_df.head(10)"
   ]
  },
  {
   "cell_type": "markdown",
   "id": "a788fc8d",
   "metadata": {},
   "source": [
    "## Доверительные интервалы"
   ]
  },
  {
   "cell_type": "code",
   "execution_count": 10,
   "id": "aaae64d7",
   "metadata": {},
   "outputs": [
    {
     "data": {
      "text/html": [
       "<div>\n",
       "<style scoped>\n",
       "    .dataframe tbody tr th:only-of-type {\n",
       "        vertical-align: middle;\n",
       "    }\n",
       "\n",
       "    .dataframe tbody tr th {\n",
       "        vertical-align: top;\n",
       "    }\n",
       "\n",
       "    .dataframe thead th {\n",
       "        text-align: right;\n",
       "    }\n",
       "</style>\n",
       "<table border=\"1\" class=\"dataframe\">\n",
       "  <thead>\n",
       "    <tr style=\"text-align: right;\">\n",
       "      <th></th>\n",
       "      <th>order_details_id</th>\n",
       "      <th>order_id</th>\n",
       "      <th>pizza_id</th>\n",
       "      <th>order_date</th>\n",
       "      <th>order_time</th>\n",
       "      <th>unit_price</th>\n",
       "      <th>total_price</th>\n",
       "      <th>pizza_size</th>\n",
       "      <th>pizza_category</th>\n",
       "      <th>pizza_ingredients</th>\n",
       "      <th>pizza_name</th>\n",
       "      <th>lead_time</th>\n",
       "    </tr>\n",
       "  </thead>\n",
       "  <tbody>\n",
       "    <tr>\n",
       "      <th>0</th>\n",
       "      <td>1</td>\n",
       "      <td>1</td>\n",
       "      <td>hawaiian_m</td>\n",
       "      <td>2015-01-01 00:00:00</td>\n",
       "      <td>11:38:36</td>\n",
       "      <td>13,25</td>\n",
       "      <td>13,25</td>\n",
       "      <td>M</td>\n",
       "      <td>Classic</td>\n",
       "      <td>Sliced Ham, Pineapple, Mozzarella Cheese</td>\n",
       "      <td>The Hawaiian Pizza</td>\n",
       "      <td>2015-01-01 11:53:30</td>\n",
       "    </tr>\n",
       "    <tr>\n",
       "      <th>1</th>\n",
       "      <td>2</td>\n",
       "      <td>2</td>\n",
       "      <td>classic_dlx_m</td>\n",
       "      <td>2015-01-01 00:00:00</td>\n",
       "      <td>11:57:40</td>\n",
       "      <td>16</td>\n",
       "      <td>16</td>\n",
       "      <td>M</td>\n",
       "      <td>Classic</td>\n",
       "      <td>Pepperoni, Mushrooms, Red Onions, Red Peppers,...</td>\n",
       "      <td>The Classic Deluxe Pizza</td>\n",
       "      <td>2015-01-01 12:16:26</td>\n",
       "    </tr>\n",
       "    <tr>\n",
       "      <th>2</th>\n",
       "      <td>3</td>\n",
       "      <td>2</td>\n",
       "      <td>five_cheese_l</td>\n",
       "      <td>2015-01-01 00:00:00</td>\n",
       "      <td>11:57:40</td>\n",
       "      <td>18,5</td>\n",
       "      <td>18,5</td>\n",
       "      <td>L</td>\n",
       "      <td>Veggie</td>\n",
       "      <td>Mozzarella Cheese, Provolone Cheese, Smoked Go...</td>\n",
       "      <td>The Five Cheese Pizza</td>\n",
       "      <td>2015-01-01 12:16:19</td>\n",
       "    </tr>\n",
       "    <tr>\n",
       "      <th>3</th>\n",
       "      <td>4</td>\n",
       "      <td>2</td>\n",
       "      <td>ital_supr_l</td>\n",
       "      <td>2015-01-01 00:00:00</td>\n",
       "      <td>11:57:40</td>\n",
       "      <td>20,75</td>\n",
       "      <td>20,75</td>\n",
       "      <td>L</td>\n",
       "      <td>Supreme</td>\n",
       "      <td>Calabrese Salami, Capocollo, Tomatoes, Red Oni...</td>\n",
       "      <td>The Italian Supreme Pizza</td>\n",
       "      <td>2015-01-01 12:10:58</td>\n",
       "    </tr>\n",
       "    <tr>\n",
       "      <th>4</th>\n",
       "      <td>5</td>\n",
       "      <td>2</td>\n",
       "      <td>mexicana_m</td>\n",
       "      <td>2015-01-01 00:00:00</td>\n",
       "      <td>11:57:40</td>\n",
       "      <td>16</td>\n",
       "      <td>16</td>\n",
       "      <td>M</td>\n",
       "      <td>Veggie</td>\n",
       "      <td>Tomatoes, Red Peppers, Jalapeno Peppers, Red O...</td>\n",
       "      <td>The Mexicana Pizza</td>\n",
       "      <td>2015-01-01 12:14:24</td>\n",
       "    </tr>\n",
       "  </tbody>\n",
       "</table>\n",
       "</div>"
      ],
      "text/plain": [
       "   order_details_id  order_id       pizza_id           order_date order_time   \n",
       "0                 1         1     hawaiian_m  2015-01-01 00:00:00   11:38:36  \\\n",
       "1                 2         2  classic_dlx_m  2015-01-01 00:00:00   11:57:40   \n",
       "2                 3         2  five_cheese_l  2015-01-01 00:00:00   11:57:40   \n",
       "3                 4         2    ital_supr_l  2015-01-01 00:00:00   11:57:40   \n",
       "4                 5         2     mexicana_m  2015-01-01 00:00:00   11:57:40   \n",
       "\n",
       "  unit_price total_price pizza_size pizza_category   \n",
       "0      13,25       13,25          M        Classic  \\\n",
       "1         16          16          M        Classic   \n",
       "2       18,5        18,5          L         Veggie   \n",
       "3      20,75       20,75          L        Supreme   \n",
       "4         16          16          M         Veggie   \n",
       "\n",
       "                                   pizza_ingredients   \n",
       "0           Sliced Ham, Pineapple, Mozzarella Cheese  \\\n",
       "1  Pepperoni, Mushrooms, Red Onions, Red Peppers,...   \n",
       "2  Mozzarella Cheese, Provolone Cheese, Smoked Go...   \n",
       "3  Calabrese Salami, Capocollo, Tomatoes, Red Oni...   \n",
       "4  Tomatoes, Red Peppers, Jalapeno Peppers, Red O...   \n",
       "\n",
       "                  pizza_name            lead_time  \n",
       "0         The Hawaiian Pizza  2015-01-01 11:53:30  \n",
       "1   The Classic Deluxe Pizza  2015-01-01 12:16:26  \n",
       "2      The Five Cheese Pizza  2015-01-01 12:16:19  \n",
       "3  The Italian Supreme Pizza  2015-01-01 12:10:58  \n",
       "4         The Mexicana Pizza  2015-01-01 12:14:24  "
      ]
     },
     "execution_count": 10,
     "metadata": {},
     "output_type": "execute_result"
    }
   ],
   "source": [
    "## Код тут\n",
    "df = pd.read_csv('../datasets/pizza.csv', sep = ';')\n",
    "df.head(5)"
   ]
  },
  {
   "cell_type": "code",
   "execution_count": 11,
   "id": "e9f10770",
   "metadata": {},
   "outputs": [
    {
     "name": "stderr",
     "output_type": "stream",
     "text": [
      "C:\\Users\\Margarita\\AppData\\Local\\Temp\\ipykernel_10972\\1005584986.py:2: UserWarning: Could not infer format, so each element will be parsed individually, falling back to `dateutil`. To ensure parsing is consistent and as-expected, please specify a format.\n",
      "  df['order_datetime'] = pd.to_datetime(df['order_date'] + ' ' + df['order_time'])\n"
     ]
    },
    {
     "data": {
      "text/plain": [
       "0   2015-01-01 11:38:36\n",
       "1   2015-01-01 11:57:40\n",
       "Name: order_datetime, dtype: datetime64[ns]"
      ]
     },
     "execution_count": 11,
     "metadata": {},
     "output_type": "execute_result"
    }
   ],
   "source": [
    "#объединяем дату и время в одну колонку\n",
    "df['order_datetime'] = pd.to_datetime(df['order_date'] + ' ' + df['order_time'])\n",
    "df['order_datetime'].head(2)"
   ]
  },
  {
   "cell_type": "code",
   "execution_count": 12,
   "id": "b731bfcd",
   "metadata": {},
   "outputs": [
    {
     "data": {
      "text/plain": [
       "0     2015-01-01\n",
       "1     2015-01-01\n",
       "2     2015-01-01\n",
       "3     2015-01-01\n",
       "4     2015-01-01\n",
       "         ...    \n",
       "160   2015-01-01\n",
       "161   2015-01-02\n",
       "162   2015-01-02\n",
       "163   2015-01-02\n",
       "164   2015-01-02\n",
       "Name: order_date, Length: 165, dtype: datetime64[ns]"
      ]
     },
     "execution_count": 12,
     "metadata": {},
     "output_type": "execute_result"
    }
   ],
   "source": [
    "#оставляем только дату\n",
    "df['order_date'] = pd.to_datetime(df['order_date'])\n",
    "df['order_date'].head(165)"
   ]
  },
  {
   "cell_type": "code",
   "execution_count": 13,
   "id": "ff228665",
   "metadata": {},
   "outputs": [
    {
     "data": {
      "text/plain": [
       "day_of_week\n",
       "Воскресенье    628\n",
       "Вторник        702\n",
       "Понедельник    634\n",
       "Пятница        818\n",
       "Среда          655\n",
       "Суббота        706\n",
       "Четверг        857\n",
       "Name: count, dtype: int64"
      ]
     },
     "execution_count": 13,
     "metadata": {},
     "output_type": "execute_result"
    }
   ],
   "source": [
    "#называем дни недели\n",
    "df['day_of_week'] = df['order_date'].dt.day_name(locale='Russian')\n",
    "df['day_of_week'].value_counts().sort_index()"
   ]
  },
  {
   "cell_type": "code",
   "execution_count": 14,
   "id": "77eafbe0",
   "metadata": {},
   "outputs": [
    {
     "data": {
      "text/plain": [
       "Text(0.5, 1.0, 'Диаграмма зависимости количества проданной пиццы от дня недели')"
      ]
     },
     "execution_count": 14,
     "metadata": {},
     "output_type": "execute_result"
    },
    {
     "data": {
      "image/png": "[encoded data removed]",
      "text/plain": [
       "<Figure size 640x480 with 1 Axes>"
      ]
     },
     "metadata": {},
     "output_type": "display_data"
    }
   ],
   "source": [
    "import seaborn as sns\n",
    "sns.barplot(x = df['day_of_week'].value_counts().sort_index().index, y = df['day_of_week'].value_counts().sort_index().values, orient = 'v', color = \"green\")\n",
    "plt.xlabel('День недели')\n",
    "plt.xticks(rotation = 30)\n",
    "plt.ylabel('Количество')\n",
    "plt.title('Диаграмма зависимости количества проданной пиццы от дня недели')"
   ]
  },
  {
   "cell_type": "code",
   "execution_count": 15,
   "id": "174aab3c",
   "metadata": {},
   "outputs": [
    {
     "name": "stdout",
     "output_type": "stream",
     "text": [
      "Больше всего пиццы ( 857 штук ) продано в Четверг\n"
     ]
    }
   ],
   "source": [
    "maxz=max(df['day_of_week'].value_counts())\n",
    "maxday=max(df['day_of_week'].value_counts().sort_index().index)\n",
    "print(\"Больше всего пиццы (\", maxz, \"штук ) продано в\", maxday)"
   ]
  },
  {
   "cell_type": "code",
   "execution_count": 16,
   "id": "7490d9aa",
   "metadata": {},
   "outputs": [
    {
     "name": "stdout",
     "output_type": "stream",
     "text": [
      "Меньше всего пиццы ( 628 штук ) продано в Воскресенье\n"
     ]
    }
   ],
   "source": [
    "minz=min(df['day_of_week'].value_counts())\n",
    "minday=min(df['day_of_week'].value_counts().sort_index().index)\n",
    "print(\"Меньше всего пиццы (\", minz, \"штук ) продано в\", minday)"
   ]
  },
  {
   "cell_type": "code",
   "execution_count": 17,
   "id": "cf58a66c",
   "metadata": {},
   "outputs": [],
   "source": [
    "df['lead_time'] = df[\"lead_time\"].astype('datetime64[ns]')\n",
    "df['cook_time'] = (df['lead_time'] - df['order_datetime']).dt.seconds"
   ]
  },
  {
   "cell_type": "code",
   "execution_count": 18,
   "id": "5189909b",
   "metadata": {},
   "outputs": [
    {
     "name": "stdout",
     "output_type": "stream",
     "text": [
      "Cреднее время приготовления пиццы (c): 1007\n",
      "Mедианное время приготовления пиццы (c): 1006\n",
      "Mаксимальное время приготовления пиццы (c): 1609\n",
      "Mинимальное время приготовления пиццы (c): 444\n"
     ]
    }
   ],
   "source": [
    "mean_time = round(df['cook_time'].mean())\n",
    "median_time = round(df['cook_time'].median())\n",
    "max_time = round(df['cook_time'].max())\n",
    "min_time = round(df['cook_time'].min())\n",
    "\n",
    "print(\"Cреднее время приготовления пиццы (c):\", mean_time)\n",
    "print(\"Mедианное время приготовления пиццы (c):\", median_time)\n",
    "print(\"Mаксимальное время приготовления пиццы (c):\", max_time)\n",
    "print(\"Mинимальное время приготовления пиццы (c):\", min_time)"
   ]
  },
  {
   "cell_type": "code",
   "execution_count": 19,
   "id": "05fbb9d2",
   "metadata": {},
   "outputs": [
    {
     "data": {
      "text/plain": [
       "0     894\n",
       "1    1126\n",
       "Name: cook_time, dtype: int32"
      ]
     },
     "execution_count": 19,
     "metadata": {},
     "output_type": "execute_result"
    }
   ],
   "source": [
    "df['cook_time'].head(2)"
   ]
  },
  {
   "cell_type": "code",
   "execution_count": 20,
   "id": "fa78c416",
   "metadata": {},
   "outputs": [
    {
     "data": {
      "text/plain": [
       "181.11166502542474"
      ]
     },
     "execution_count": 20,
     "metadata": {},
     "output_type": "execute_result"
    }
   ],
   "source": [
    "std = np.std(df['cook_time'], ddof=1)\n",
    "std"
   ]
  },
  {
   "cell_type": "code",
   "execution_count": 21,
   "id": "b3da98b1",
   "metadata": {},
   "outputs": [
    {
     "data": {
      "text/plain": [
       "(1002, 1012)"
      ]
     },
     "execution_count": 21,
     "metadata": {},
     "output_type": "execute_result"
    }
   ],
   "source": [
    "#  95% доверительный интервал x(+/-)z*(s/√n) \n",
    "#x : выборочное среднее\n",
    "#z=1.8 значение, которое вы будете использовать, зависит от выбранного вами уровня достоверности\n",
    "#s: стандартное отклонение выборки\n",
    "#n: размер выборки\n",
    "ci_upper = round(mean_time + 1.8 * std / np.sqrt(len(df['cook_time'])))\n",
    "ci_lower = round(mean_time - 1.8 * std / np.sqrt(len(df['cook_time'])))\n",
    "ci_lower, ci_upper"
   ]
  },
  {
   "cell_type": "code",
   "execution_count": 22,
   "id": "e6cea4a7",
   "metadata": {},
   "outputs": [],
   "source": [
    "#import scipy.stats as st\n",
    "#st.norm.interval(alpha= 0.95 , loc=np.mean(df['cook_time']), scale=st.sem(df['cook_time']))"
   ]
  },
  {
   "cell_type": "code",
   "execution_count": 25,
   "id": "522c8330",
   "metadata": {},
   "outputs": [
    {
     "data": {
      "text/plain": [
       "'The Italian Vegetables Pizza'"
      ]
     },
     "execution_count": 25,
     "metadata": {},
     "output_type": "execute_result"
    }
   ],
   "source": [
    "group = df.groupby(['pizza_name'])['cook_time'].agg(['mean','count', 'sem'])\n",
    "group = group.loc[(group['count'] >= 100)]\n",
    "\n",
    "group['ci95_hi'] = group['mean'] + 1.96* group['sem']\n",
    "group['ci95_lo'] = group['mean'] - 1.96* group['sem']\n",
    "\n",
    "group_max = group['ci95_hi']. idxmax ()\n",
    "group_max"
   ]
  },
  {
   "cell_type": "code",
   "execution_count": 26,
   "id": "8932a0cc",
   "metadata": {},
   "outputs": [
    {
     "data": {
      "text/plain": [
       "'The Chicken Alfredo Pizza'"
      ]
     },
     "execution_count": 26,
     "metadata": {},
     "output_type": "execute_result"
    }
   ],
   "source": [
    "group['wide'] = group['ci95_hi'] - group['ci95_lo']\n",
    "group_wide = group['wide'].idxmax ()\n",
    "group_wide"
   ]
  },
  {
   "cell_type": "markdown",
   "id": "b28393c5",
   "metadata": {},
   "source": [
    "## AB тестирование"
   ]
  },
  {
   "cell_type": "code",
   "execution_count": 27,
   "id": "50e7f309",
   "metadata": {},
   "outputs": [
    {
     "data": {
      "text/html": [
       "<div>\n",
       "<style scoped>\n",
       "    .dataframe tbody tr th:only-of-type {\n",
       "        vertical-align: middle;\n",
       "    }\n",
       "\n",
       "    .dataframe tbody tr th {\n",
       "        vertical-align: top;\n",
       "    }\n",
       "\n",
       "    .dataframe thead th {\n",
       "        text-align: right;\n",
       "    }\n",
       "</style>\n",
       "<table border=\"1\" class=\"dataframe\">\n",
       "  <thead>\n",
       "    <tr style=\"text-align: right;\">\n",
       "      <th></th>\n",
       "      <th>banner_a</th>\n",
       "      <th>banner_b</th>\n",
       "    </tr>\n",
       "  </thead>\n",
       "  <tbody>\n",
       "    <tr>\n",
       "      <th>count</th>\n",
       "      <td>1000.000000</td>\n",
       "      <td>1000.000000</td>\n",
       "    </tr>\n",
       "    <tr>\n",
       "      <th>mean</th>\n",
       "      <td>0.037000</td>\n",
       "      <td>0.053000</td>\n",
       "    </tr>\n",
       "    <tr>\n",
       "      <th>std</th>\n",
       "      <td>0.188856</td>\n",
       "      <td>0.224146</td>\n",
       "    </tr>\n",
       "    <tr>\n",
       "      <th>min</th>\n",
       "      <td>0.000000</td>\n",
       "      <td>0.000000</td>\n",
       "    </tr>\n",
       "    <tr>\n",
       "      <th>25%</th>\n",
       "      <td>0.000000</td>\n",
       "      <td>0.000000</td>\n",
       "    </tr>\n",
       "    <tr>\n",
       "      <th>50%</th>\n",
       "      <td>0.000000</td>\n",
       "      <td>0.000000</td>\n",
       "    </tr>\n",
       "    <tr>\n",
       "      <th>75%</th>\n",
       "      <td>0.000000</td>\n",
       "      <td>0.000000</td>\n",
       "    </tr>\n",
       "    <tr>\n",
       "      <th>max</th>\n",
       "      <td>1.000000</td>\n",
       "      <td>1.000000</td>\n",
       "    </tr>\n",
       "  </tbody>\n",
       "</table>\n",
       "</div>"
      ],
      "text/plain": [
       "          banner_a     banner_b\n",
       "count  1000.000000  1000.000000\n",
       "mean      0.037000     0.053000\n",
       "std       0.188856     0.224146\n",
       "min       0.000000     0.000000\n",
       "25%       0.000000     0.000000\n",
       "50%       0.000000     0.000000\n",
       "75%       0.000000     0.000000\n",
       "max       1.000000     1.000000"
      ]
     },
     "execution_count": 27,
     "metadata": {},
     "output_type": "execute_result"
    }
   ],
   "source": [
    "df = pd.read_csv('../datasets/click.csv', low_memory=False)\n",
    "df.describe()"
   ]
  },
  {
   "cell_type": "code",
   "execution_count": 28,
   "id": "f40cb577",
   "metadata": {},
   "outputs": [],
   "source": [
    "from statsmodels.stats.proportion import proportion_confint\n",
    "conf_interval_banner_a = proportion_confint(sum(df.banner_a), \n",
    "                                            df.shape[0])\n",
    "conf_interval_banner_b = proportion_confint(sum(df.banner_b), \n",
    "                                            df.shape[0])\n"
   ]
  },
  {
   "cell_type": "code",
   "execution_count": 33,
   "id": "5d209c6d",
   "metadata": {},
   "outputs": [
    {
     "data": {
      "text/plain": [
       "0.03911451622486782"
      ]
     },
     "execution_count": 33,
     "metadata": {},
     "output_type": "execute_result"
    }
   ],
   "source": [
    "conf_interval_banner_b[0]"
   ]
  },
  {
   "cell_type": "code",
   "execution_count": 29,
   "id": "0dfaa056",
   "metadata": {},
   "outputs": [
    {
     "name": "stdout",
     "output_type": "stream",
     "text": [
      "(0.02530064022092865, 0.04869935977907135)\n",
      "(0.03911451622486782, 0.06688548377513218)\n"
     ]
    }
   ],
   "source": [
    "print(conf_interval_banner_a)\n",
    "print(conf_interval_banner_b)"
   ]
  },
  {
   "cell_type": "code",
   "execution_count": 30,
   "id": "8b30b379",
   "metadata": {},
   "outputs": [
    {
     "name": "stdout",
     "output_type": "stream",
     "text": [
      "Интервалы пересекаются\n"
     ]
    }
   ],
   "source": [
    "if max (conf_interval_banner_a[0], conf_interval_banner_b[0]) < min (conf_interval_banner_a[1], conf_interval_banner_b[1]):\n",
    "    print (\"Интервалы пересекаются\")\n",
    "else:\n",
    "    print (\"Интервалы не пересекаются\")"
   ]
  },
  {
   "cell_type": "markdown",
   "id": "2f34dfbc",
   "metadata": {},
   "source": [
    "Левая и правая границы доверительного интервала рассчитываются по формулам:\n",
    "$$p_a - p_b \\pm z * \\sqrt{\\frac{p_a(1 - p_a)}{n_a} + \\frac{p_b(1 - p_b)}{n_b}}$$\n",
    "Где\n",
    "\n",
    "$p_a = \\frac{n_{like(a)}}{n_{a}}$,\n",
    "\n",
    "$p_b = \\frac{n_{like(b)}}{n_{b}}$,\n",
    "\n",
    "$z = 1-\\frac{\\alpha}{2}$ (используй scipy.stats.norm.ppf)\n",
    "\n",
    "$n_a$ - общее количество кликов по баннеру а\n",
    "\n",
    "$n_b$ - общее количество кликов по баннеру b\n",
    "\n",
    "$n_{like(a)}$ - количество лайков по баннеру а\n",
    "\n",
    "$n_{like(b)}$ - количество лайков по баннеру b"
   ]
  },
  {
   "cell_type": "code",
   "execution_count": 71,
   "id": "aa51d523",
   "metadata": {},
   "outputs": [
    {
     "name": "stdout",
     "output_type": "stream",
     "text": [
      "95% доверительный интервал для разности двух долей: [0.002157138511054299, -0.0341571385110543]\n"
     ]
    }
   ],
   "source": [
    "import scipy.stats\n",
    "import math\n",
    "len_a_1 = len(df[df['banner_a']==1])\n",
    "len_a_0 = len(df[df['banner_a']==0])\n",
    "len_b_1 = len(df[df['banner_b']==1])\n",
    "len_b_0 =len(df[df['banner_b']==0])\n",
    "\n",
    "p_a = len_a_1 / len(df['banner_a'])\n",
    "p_b = len_b_1 / len(df['banner_b'])\n",
    "n_a = len(df['banner_a'])\n",
    "n_b = len(df['banner_b'])\n",
    "\n",
    "z =  scipy.stats.norm.ppf(1 - 0.05 / 2)\n",
    "sqrt = math.sqrt ((p_a * (1- p_a) / n_a) + (p_b * (1-p_b) / n_b))\n",
    "\n",
    "result = [p_a - p_b + (z * sqrt), p_a -p_b - (z * sqrt)]\n",
    "print ('95% доверительный интервал для разности двух долей:' , result )"
   ]
  },
  {
   "cell_type": "markdown",
   "id": "b9f88120",
   "metadata": {},
   "source": [
    "Какой баннер лучше? H0 - Старый баннер или H1 - новый баннер.\n",
    "В этом тебе поможем "
   ]
  },
  {
   "cell_type": "markdown",
   "id": "771558cb",
   "metadata": {},
   "source": [
    "$$Z({X_1, X_2}) =  \\frac{p_a - p_b}{\\sqrt{P(1 - P)(\\frac{1}{n_a} + \\frac{1}{n_b})}}$$\n",
    "$$P = \\frac{p_a{n_a} + p_b{n_b}}{{n_a} + {n_b}} $$\n",
    "\n",
    "$p_a, p_b = \\frac{∑кликов}{n}$, n - общее количество кликов по баннеру\n",
    "\n",
    "$n_a$ - общее количество кликов по баннеру а\n",
    "\n",
    "$n_b$ - общее количество кликов по баннеру b"
   ]
  },
  {
   "cell_type": "code",
   "execution_count": 34,
   "id": "c4349f01",
   "metadata": {},
   "outputs": [],
   "source": [
    "def z_stat(sample1, sample2):\n",
    "    n_a = len(sample1)\n",
    "    n_b = len(sample2)\n",
    "\n",
    "    p_a = float(sum(sample1)) / n_a\n",
    "    p_b = float(sum(sample2)) / n_b \n",
    "    P = float(p_a * n_a + p_b * n_b) / (n_a + n_b)\n",
    "  \n",
    "    return (p_a - p_b) / np.sqrt(P * (1 - P) * (1. / n_a + 1. / n_b))"
   ]
  },
  {
   "cell_type": "code",
   "execution_count": 35,
   "id": "b12d59dd",
   "metadata": {},
   "outputs": [
    {
     "name": "stdout",
     "output_type": "stream",
     "text": [
      "Нулевая гипотеза отвергается. Новый баннер лучше.\n"
     ]
    }
   ],
   "source": [
    "z = z_stat(df.banner_a, df.banner_b)\n",
    "p_value = 0.05\n",
    "\n",
    "if z < p_value:\n",
    "    print(\"Нулевая гипотеза отвергается. Новый баннер лучше.\")\n",
    "else:\n",
    "    print(\"Нулева гипотеза не отвергается. Старый баннер лучше\")"
   ]
  },
  {
   "cell_type": "code",
   "execution_count": 36,
   "id": "69ccde02",
   "metadata": {},
   "outputs": [
    {
     "data": {
      "text/plain": [
       "-1.7258261378415294"
      ]
     },
     "execution_count": 36,
     "metadata": {},
     "output_type": "execute_result"
    }
   ],
   "source": [
    "z"
   ]
  },
  {
   "cell_type": "markdown",
   "id": "c33139fd",
   "metadata": {},
   "source": [
    "## Корреляции"
   ]
  },
  {
   "cell_type": "code",
   "execution_count": 74,
   "id": "5d260fe7",
   "metadata": {},
   "outputs": [],
   "source": [
    "x = np.linspace(-10,10,100)\n",
    "y1 = x ** 2\n",
    "y2 = -x **2\n",
    "y3 = np.log(x ** 2 + 1)"
   ]
  },
  {
   "cell_type": "code",
   "execution_count": 75,
   "id": "5bf4ed0a",
   "metadata": {},
   "outputs": [],
   "source": [
    "from scipy.stats import pearsonr, spearmanr\n",
    "\n",
    "# Коэффициент корреляции Пирсона и Спирмена для x~y1\n",
    "corr_pearson_y1, _ = pearsonr(x, y1)\n",
    "corr_spearman_y1, _ = spearmanr(x, y1)\n",
    "\n",
    "# Коэффициент корреляции Пирсона и Спирмена для x~y2\n",
    "corr_pearson_y2, _ = pearsonr(x, y2)\n",
    "corr_spearman_y2, _ = spearmanr(x, y2)\n",
    "\n",
    "# Коэффициент корреляции Пирсона и Спирмена для x~y3\n",
    "corr_pearson_y3, _ = pearsonr(x, y3)\n",
    "corr_spearman_y3, _ = spearmanr(x, y3)"
   ]
  },
  {
   "cell_type": "code",
   "execution_count": 76,
   "id": "8234e8ab",
   "metadata": {},
   "outputs": [
    {
     "data": {
      "image/png": "[encoded data removed]",
      "text/plain": [
       "<Figure size 1500x500 with 3 Axes>"
      ]
     },
     "metadata": {},
     "output_type": "display_data"
    }
   ],
   "source": [
    "fig, axes = plt.subplots(1, 3, figsize=(15,5))\n",
    "axes[0].scatter(x, y1, s=5)\n",
    "axes[0].set_title('Pearson = {}\\nSpearman = {}'.format(round(corr_pearson_y1, 2), round(corr_spearman_y1, 2)))\n",
    "axes[0].set_xlabel('x')\n",
    "axes[0].set_ylabel('y1')\n",
    "\n",
    "axes[1].scatter(x, y2, s=5)\n",
    "axes[1].set_title('Pearson = {}\\nSpearman = {}'.format(round(corr_pearson_y2, 2), round(corr_spearman_y2, 2)))\n",
    "axes[1].set_xlabel('x')\n",
    "axes[1].set_ylabel('y2')\n",
    "\n",
    "axes[2].scatter(x, y3, s=5)\n",
    "axes[2].set_title('Pearson = {}\\nSpearman = {}'.format(round(corr_pearson_y3, 2), round(corr_spearman_y3, 2)))\n",
    "axes[2].set_xlabel('x')\n",
    "axes[2].set_ylabel('y3')\n",
    "\n",
    "plt.show()"
   ]
  },
  {
   "cell_type": "code",
   "execution_count": 77,
   "id": "7269946b",
   "metadata": {},
   "outputs": [],
   "source": [
    "step = np.linspace(-10, 0, 1000)\n",
    "x = -step + np.random.randn(1000) * 0.2\n",
    "y = step + np.random.randn(1000)* 0.2"
   ]
  },
  {
   "cell_type": "code",
   "execution_count": 78,
   "id": "38df0206",
   "metadata": {},
   "outputs": [
    {
     "data": {
      "image/png": "[encoded data removed]",
      "text/plain": [
       "<Figure size 600x400 with 1 Axes>"
      ]
     },
     "metadata": {},
     "output_type": "display_data"
    }
   ],
   "source": [
    "plt.figure(figsize=(6, 4))\n",
    "plt.scatter(x, y, s=5, color=\"#006400\")\n",
    "plt.xlabel('x')\n",
    "plt.ylabel('y')\n",
    "\n",
    "plt.show()"
   ]
  },
  {
   "cell_type": "code",
   "execution_count": 79,
   "id": "5d5100ee",
   "metadata": {},
   "outputs": [],
   "source": [
    "indices = np.random.choice(range(len(x)), size=4, replace=False)\n",
    "x[indices] = [25, 50, 150, 650]\n",
    "y[indices] = [20, 40, 60, 80]"
   ]
  },
  {
   "cell_type": "code",
   "execution_count": 80,
   "id": "ed4c5e1d",
   "metadata": {},
   "outputs": [
    {
     "data": {
      "image/png": "[encoded data removed]",
      "text/plain": [
       "<Figure size 1600x800 with 4 Axes>"
      ]
     },
     "metadata": {},
     "output_type": "display_data"
    }
   ],
   "source": [
    "fig, axes = plt.subplots(1, 4, figsize=(16,8))\n",
    "\n",
    "for i in range(4):\n",
    "    x_=np.append(np.delete(x, indices), x[indices][i])\n",
    "    y_=np.append(np.delete(y, indices), y[indices][i])\n",
    "\n",
    "    corr_pearson, _ = pearsonr(x_, y_)\n",
    "    corr_spearman, _ = spearmanr(x_, y_)\n",
    "\n",
    "    axes[i].scatter(x[indices][i], y[indices][i], s=5, color=\"indigo\")\n",
    "    axes[i].scatter(np.delete(x, indices), np.delete(y, indices), s=5, color=\"#006400\")\n",
    "    axes[i].set_title('Pearson = {}\\nSpearman = {}'.format(round(corr_pearson, 2), round(corr_spearman, 2)))"
   ]
  },
  {
   "cell_type": "code",
   "execution_count": null,
   "id": "599aaceb",
   "metadata": {},
   "outputs": [],
   "source": []
  }
 ],
 "metadata": {
  "kernelspec": {
   "display_name": "Python 3 (ipykernel)",
   "language": "python",
   "name": "python3"
  },
  "language_info": {
   "codemirror_mode": {
    "name": "ipython",
    "version": 3
   },
   "file_extension": ".py",
   "mimetype": "text/x-python",
   "name": "python",
   "nbconvert_exporter": "python",
   "pygments_lexer": "ipython3",
   "version": "3.10.11"
  }
 },
 "nbformat": 4,
 "nbformat_minor": 5
}
