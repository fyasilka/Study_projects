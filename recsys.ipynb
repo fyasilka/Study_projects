{
 "cells": [
  {
   "cell_type": "markdown",
   "metadata": {
    "id": "QovT45u4cpGF"
   },
   "source": [
    "# Recommendation System"
   ]
  },
  {
   "cell_type": "markdown",
   "metadata": {
    "id": "ObLE45BCMcvM"
   },
   "source": [
    "данные о фильмах [tmdb_5000_movies](https://files.sberdisk.ru/s/te4QbzdxKgsFQXA) и каст фильмов\n",
    "[tmdb_5000_credits](https://files.sberdisk.ru/s/H9oRuXQt5mFz3T9). "
   ]
  },
  {
   "cell_type": "code",
   "execution_count": 1,
   "metadata": {
    "id": "HecVUnLTMcvN"
   },
   "outputs": [],
   "source": [
    "import numpy as np\n",
    "import pandas as pd\n",
    "from sklearn.feature_extraction.text import TfidfVectorizer\n",
    "from sklearn.metrics.pairwise import linear_kernel\n",
    "\n",
    "from surprise import Reader, Dataset, SVD\n",
    "from surprise.model_selection import cross_validate\n",
    "from typing_extensions import dataclass_transform"
   ]
  },
  {
   "cell_type": "code",
   "execution_count": 2,
   "metadata": {
    "id": "EMt9wLiMMcvP"
   },
   "outputs": [
    {
     "name": "stdout",
     "output_type": "stream",
     "text": [
      "Количество фильмов, оставшихся после фильтрации: 4795\n"
     ]
    }
   ],
   "source": [
    "df_movies = pd.read_csv('../datasets/tmdb_5000_movies.csv')\n",
    "df_credits = pd.read_csv('../datasets/tmdb_5000_credits.csv')\n",
    "\n",
    "released_df = pd.concat([df_movies, df_credits], axis=1)\n",
    "released_df = released_df[released_df['status'] == 'Released']\n",
    "\n",
    "print('Количество фильмов, оставшихся после фильтрации:', released_df.shape[0])"
   ]
  },
  {
   "cell_type": "markdown",
   "metadata": {
    "id": "GMcz9lLFMcvS"
   },
   "source": [
    "рекомендации фильмов с лучшими оценками пользователей "
   ]
  },
  {
   "cell_type": "code",
   "execution_count": 3,
   "metadata": {
    "colab": {
     "base_uri": "https://localhost:8080/"
    },
    "executionInfo": {
     "elapsed": 256,
     "status": "ok",
     "timestamp": 1690308237291,
     "user": {
      "displayName": "Маргарита Баталова",
      "userId": "03134876644250086855"
     },
     "user_tz": -300
    },
    "id": "JtlgPe-hMcvT",
    "outputId": "f8460d02-5164-4ff5-b624-97377c6049d6"
   },
   "outputs": [
    {
     "name": "stdout",
     "output_type": "stream",
     "text": [
      "Топ-5 фильмов по версии IMDB:\n",
      "The Shawshank Redemption\n",
      "The Dark Knight\n",
      "Fight Club\n",
      "Inception\n",
      "Pulp Fiction\n"
     ]
    }
   ],
   "source": [
    "def weighted_rating(df, C, m):\n",
    "    v = df['vote_count']\n",
    "    R = df['vote_average']\n",
    "    return (v / (v + m) * R) + (m /(v + m) * C)\n",
    "\n",
    "m = released_df['vote_count'].quantile(0.95)\n",
    "C = released_df['vote_average'].mean()\n",
    "\n",
    "released_df['simple_score'] = released_df.apply(lambda x: weighted_rating(x, C, m), axis=1)\n",
    "#released_df['simple_score']\n",
    "\n",
    "IMDB_top5 = list(released_df.sort_values(by=['simple_score'], ascending=False)[:5]['original_title'].values)\n",
    "print('Топ-5 фильмов по версии IMDB:', *IMDB_top5, sep='\\n')"
   ]
  },
  {
   "cell_type": "markdown",
   "metadata": {
    "id": "_a_2mIz_McvT"
   },
   "source": [
    "**Content Based Filtering** (Фильтрация на основе содержания) "
   ]
  },
  {
   "cell_type": "code",
   "execution_count": 4,
   "metadata": {
    "colab": {
     "base_uri": "https://localhost:8080/"
    },
    "executionInfo": {
     "elapsed": 681,
     "status": "ok",
     "timestamp": 1690308241538,
     "user": {
      "displayName": "Маргарита Баталова",
      "userId": "03134876644250086855"
     },
     "user_tz": -300
    },
    "id": "xry_TlTaMcvU",
    "outputId": "b149ecd0-76bf-4bcc-93f1-573430387d8b"
   },
   "outputs": [
    {
     "name": "stdout",
     "output_type": "stream",
     "text": [
      "Размер матрицы Tf-Idf: (4795, 20970)\n"
     ]
    }
   ],
   "source": [
    "released_df['overview'] = released_df['overview'].fillna(value='')\n",
    "\n",
    "vectorizer = TfidfVectorizer(stop_words='english')\n",
    "Tf_Idf = vectorizer.fit_transform(released_df['overview'])\n",
    "\n",
    "print('Размер матрицы Tf-Idf:', Tf_Idf.shape)"
   ]
  },
  {
   "cell_type": "markdown",
   "metadata": {
    "id": "LUdCs0M5McvV"
   },
   "source": [
    "использовали векторизатор TF-IDF на предыдущем шаге, достаточно вычислить скалярное произведение, которое и даст оценку косинусного сходства"
   ]
  },
  {
   "cell_type": "code",
   "execution_count": 5,
   "metadata": {
    "colab": {
     "base_uri": "https://localhost:8080/"
    },
    "executionInfo": {
     "elapsed": 741,
     "status": "ok",
     "timestamp": 1690308245710,
     "user": {
      "displayName": "Маргарита Баталова",
      "userId": "03134876644250086855"
     },
     "user_tz": -300
    },
    "id": "_VXIovtTMcvW",
    "outputId": "791b11bf-1c64-470b-cdb8-871732a89f9d"
   },
   "outputs": [
    {
     "name": "stdout",
     "output_type": "stream",
     "text": [
      "Размер матрицы cosine_sim: (4795, 4795)\n"
     ]
    }
   ],
   "source": [
    "cosine_sim = linear_kernel(Tf_Idf, Tf_Idf)\n",
    "print('Размер матрицы cosine_sim:', cosine_sim.shape)"
   ]
  },
  {
   "cell_type": "code",
   "execution_count": 6,
   "metadata": {
    "id": "YWnEUwJOMcvY"
   },
   "outputs": [
    {
     "name": "stdout",
     "output_type": "stream",
     "text": [
      "Топ-5 фильмов, описание которых похоже на описание фильма \"Saving Private Ryan\":\n",
      "The Great Raid\n",
      "The Monuments Men\n",
      "The Expendables 2\n",
      "Abandoned\n",
      "The Train\n"
     ]
    }
   ],
   "source": [
    "def get_recommendations(movies_dataset, title, cosine_sim, top_k=10):\n",
    "    indices = pd.Series(movies_dataset.index, index = movies_dataset['original_title'])\n",
    "    idx = indices[title]\n",
    "    sim_scores = list(enumerate(cosine_sim[idx]))\n",
    "    sim_scores = sorted(sim_scores, key=lambda x: x[1], reverse=True)\n",
    "    sim_scores = sim_scores[1:top_k + 1]\n",
    "    movie_indices = [i[0] for i in sim_scores]\n",
    "    return list(movies_dataset['original_title'].iloc[movie_indices])\n",
    "\n",
    "\n",
    "print('Топ-5 фильмов, описание которых похоже на описание фильма \"Saving Private Ryan\":',\n",
    "      *get_recommendations(released_df, title='Saving Private Ryan', cosine_sim=cosine_sim, top_k=5), sep='\\n')"
   ]
  },
  {
   "cell_type": "markdown",
   "metadata": {
    "id": "yguAmtYRMcvY"
   },
   "source": [
    "**Collaborative Filtering** (Коллаборативная фильтрация)"
   ]
  },
  {
   "cell_type": "code",
   "execution_count": 7,
   "metadata": {
    "colab": {
     "base_uri": "https://localhost:8080/"
    },
    "executionInfo": {
     "elapsed": 13446,
     "status": "ok",
     "timestamp": 1690308278672,
     "user": {
      "displayName": "Маргарита Баталова",
      "userId": "03134876644250086855"
     },
     "user_tz": -300
    },
    "id": "lQDPA8AuMcvZ",
    "outputId": "5d3ff132-91a8-49c1-d6c6-7ffefed0d7a3"
   },
   "outputs": [
    {
     "name": "stdout",
     "output_type": "stream",
     "text": [
      "Evaluating RMSE, MAE of algorithm SVD on 5 split(s).\n",
      "\n",
      "                  Fold 1  Fold 2  Fold 3  Fold 4  Fold 5  Mean    Std     \n",
      "RMSE (testset)    0.8951  0.9034  0.8920  0.8952  0.8982  0.8968  0.0038  \n",
      "MAE (testset)     0.6874  0.6944  0.6878  0.6879  0.6928  0.6901  0.0029  \n",
      "Fit time          1.00    1.03    1.02    1.01    1.04    1.02    0.02    \n",
      "Test time         0.17    0.10    0.12    0.09    0.11    0.12    0.03    \n",
      "\n",
      "Среднее значение RMSE: 0.8968164117781077\n",
      "Среднее значение MAE: 0.6900521490266005\n"
     ]
    }
   ],
   "source": [
    "rating_data = pd.read_csv('../datasets/ratings.csv', sep=',')\n",
    "min_rating = rating_data['rating'].min()\n",
    "max_rating = rating_data['rating'].max()\n",
    "\n",
    "reader = Reader(rating_scale=(min_rating, max_rating))\n",
    "data = Dataset.load_from_df(rating_data[['userId', 'movieId', 'rating']], reader)\n",
    "results = cross_validate(algo=SVD(), data=data, measures=['RMSE', 'MAE'], cv=5, verbose=True)\n",
    "#results\n",
    "\n",
    "print('')\n",
    "print('Среднее значение RMSE:', round(results['test_rmse'].mean(), 3))\n",
    "print('Среднее значение MAE:', round(results['test_mae'].mean(), 3))"
   ]
  }
 ],
 "metadata": {
  "colab": {
   "provenance": []
  },
  "kernelspec": {
   "display_name": "Python 3 (ipykernel)",
   "language": "python",
   "name": "python3"
  },
  "language_info": {
   "codemirror_mode": {
    "name": "ipython",
    "version": 3
   },
   "file_extension": ".py",
   "mimetype": "text/x-python",
   "name": "python",
   "nbconvert_exporter": "python",
   "pygments_lexer": "ipython3",
   "version": "3.10.11"
  }
 },
 "nbformat": 4,
 "nbformat_minor": 1
}
