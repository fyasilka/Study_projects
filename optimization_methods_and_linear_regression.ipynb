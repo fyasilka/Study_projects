{
 "cells": [
  {
   "cell_type": "markdown",
   "id": "f59af801-5930-4a03-984c-f3a63d29a5ba",
   "metadata": {},
   "source": [
    "# Задание "
   ]
  },
  {
   "cell_type": "code",
   "execution_count": 6,
   "id": "de25621d-4eda-459b-a1da-2c21813eea1c",
   "metadata": {},
   "outputs": [],
   "source": [
    "import numpy as np\n",
    "import matplotlib.pyplot as plt\n",
    "import sympy as sp\n",
    "import math\n",
    "from sympy import *"
   ]
  },
  {
   "cell_type": "code",
   "execution_count": 7,
   "id": "18986719-68b3-4295-885a-4dfc0d7c5021",
   "metadata": {},
   "outputs": [],
   "source": [
    "x, y, p = symbols('x y p')"
   ]
  },
  {
   "cell_type": "code",
   "execution_count": 8,
   "id": "ed786386",
   "metadata": {},
   "outputs": [
    {
     "name": "stdout",
     "output_type": "stream",
     "text": [
      "Производная равна\n"
     ]
    },
    {
     "data": {
      "text/latex": [
       "$\\displaystyle 2 x - 1$"
      ],
      "text/plain": [
       "2*x - 1"
      ]
     },
     "execution_count": 8,
     "metadata": {},
     "output_type": "execute_result"
    }
   ],
   "source": [
    "y =  x ** 2 - x + 21\n",
    "print('Производная равна')\n",
    "def der(y):\n",
    "    return diff(y)\n",
    "der(y)"
   ]
  },
  {
   "cell_type": "code",
   "execution_count": 9,
   "id": "ad75021c-eff5-485d-b370-0815d0115b83",
   "metadata": {},
   "outputs": [
    {
     "name": "stdout",
     "output_type": "stream",
     "text": [
      "Производная по x равна\n"
     ]
    },
    {
     "data": {
      "text/latex": [
       "$\\displaystyle 2 x - 2 y$"
      ],
      "text/plain": [
       "2*x - 2*y"
      ]
     },
     "execution_count": 9,
     "metadata": {},
     "output_type": "execute_result"
    }
   ],
   "source": [
    "x, y, p = symbols('x y p')\n",
    "p = (x - y) ** 2\n",
    "print('Производная по x равна')\n",
    "def der(p):\n",
    "    return diff(p, x)\n",
    "der(p)"
   ]
  },
  {
   "cell_type": "code",
   "execution_count": 10,
   "id": "90a2cc6a",
   "metadata": {},
   "outputs": [
    {
     "name": "stdout",
     "output_type": "stream",
     "text": [
      "Производная по y равна\n"
     ]
    },
    {
     "data": {
      "text/latex": [
       "$\\displaystyle - 2 x + 2 y$"
      ],
      "text/plain": [
       "-2*x + 2*y"
      ]
     },
     "execution_count": 10,
     "metadata": {},
     "output_type": "execute_result"
    }
   ],
   "source": [
    "p = (x - y) ** 2\n",
    "print('Производная по y равна')\n",
    "def der(p):\n",
    "    return diff(p, y)\n",
    "der(p)"
   ]
  },
  {
   "cell_type": "code",
   "execution_count": 17,
   "id": "732bbafa",
   "metadata": {},
   "outputs": [
    {
     "data": {
      "text/latex": [
       "$\\displaystyle \\frac{\\sum_{i=1}^{n} \\left(- b - w x + y_{true}\\right)^{2}}{n}$"
      ],
      "text/plain": [
       "Sum((-b - w*x + y_true)**2, (i, 1, n))/n"
      ]
     },
     "execution_count": 17,
     "metadata": {},
     "output_type": "execute_result"
    }
   ],
   "source": [
    "# w = naklon\n",
    "# b = sdvig\n",
    "# можно ввести значение n \n",
    "from sympy import symbols, Sum\n",
    "n, i = symbols('n i', integer=True)\n",
    "x, y_pred, y_true, w, b = symbols('x y_pred y_true w b')\n",
    "y_pred = w * x + b \n",
    "MSE = 1 / n * (Sum((y_true - y_pred ) ** 2, (i, 1, n)))\n",
    "MSE"
   ]
  },
  {
   "cell_type": "code",
   "execution_count": 18,
   "id": "c3aad400",
   "metadata": {},
   "outputs": [
    {
     "data": {
      "text/latex": [
       "$\\displaystyle \\frac{\\sum_{i=1}^{n} - 2 x \\left(- b - w x + y_{true}\\right)}{n}$"
      ],
      "text/plain": [
       "Sum(-2*x*(-b - w*x + y_true), (i, 1, n))/n"
      ]
     },
     "execution_count": 18,
     "metadata": {},
     "output_type": "execute_result"
    }
   ],
   "source": [
    "def der(MSE):\n",
    "    return diff(MSE, w)\n",
    "der(MSE)"
   ]
  },
  {
   "cell_type": "code",
   "execution_count": 19,
   "id": "48114e3a",
   "metadata": {},
   "outputs": [
    {
     "data": {
      "text/latex": [
       "$\\displaystyle \\frac{\\sum_{i=1}^{n} \\left(2 b + 2 w x - 2 y_{true}\\right)}{n}$"
      ],
      "text/plain": [
       "Sum(2*b + 2*w*x - 2*y_true, (i, 1, n))/n"
      ]
     },
     "execution_count": 19,
     "metadata": {},
     "output_type": "execute_result"
    }
   ],
   "source": [
    "def der(MSE):\n",
    "    return diff(MSE, b)\n",
    "der(MSE)"
   ]
  },
  {
   "cell_type": "code",
   "execution_count": 20,
   "id": "b4bb1337-6f9c-49dc-bbc0-5952b12121ae",
   "metadata": {},
   "outputs": [],
   "source": [
    "X = np.array(\n",
    "    [32.50234527, 53.42680403, 61.53035803, 47.47563963, 59.81320787, 55.14218841, \n",
    "     52.21179669, 39.29956669, 48.10504169, 52.55001444, 45.41973014, 54.35163488, \n",
    "     44.1640495 , 58.16847072, 56.72720806, 48.95588857, 44.68719623, 60.29732685, \n",
    "     45.61864377, 38.81681754]\n",
    ")\n",
    "Y = np.array(\n",
    "    [31.70700585, 68.77759598, 62.5623823 , 71.54663223, 87.23092513, 78.21151827, \n",
    "     79.64197305, 59.17148932, 75.3312423 , 71.30087989, 55.16567715, 82.47884676, \n",
    "     62.00892325, 75.39287043, 81.43619216, 60.72360244, 82.89250373, 97.37989686, \n",
    "     48.84715332, 56.87721319]\n",
    ")"
   ]
  },
  {
   "cell_type": "code",
   "execution_count": 21,
   "id": "2b5a7a87-eb43-456f-adf3-add9b502e3e1",
   "metadata": {},
   "outputs": [
    {
     "data": {
      "image/png": "[encoded data removed]",
      "text/plain": [
       "<Figure size 640x480 with 1 Axes>"
      ]
     },
     "metadata": {},
     "output_type": "display_data"
    }
   ],
   "source": [
    "plt.scatter(X, Y);"
   ]
  },
  {
   "cell_type": "code",
   "execution_count": 22,
   "id": "99ad34a1-5c67-4430-84ad-dc77ac8b657f",
   "metadata": {},
   "outputs": [],
   "source": [
    "class Gradient:\n",
    "\n",
    "    def __init__(self, X, Y):\n",
    "        self.X = X\n",
    "        self.Y_true = Y\n",
    "\n",
    "    def predict(self, w, b):\n",
    "        global y_pred\n",
    "        y_pred = w *self.X + b\n",
    "        return y_pred\n",
    "\n",
    "    def mse(self, y_pred):\n",
    "        n = len(X)\n",
    "        return(np.sum((self.Y_true - y_pred) ** 2) / n)\n",
    "    \n",
    "    def update(self, y_pred, w, b, a):\n",
    "        n = len(self.X)\n",
    "        w_new = round(w - a * (-2) * np.sum(self.X * (-y_pred + self.Y_true)) / n, 2)\n",
    "        b_new = round(b - a * 2 * np.sum(y_pred - self.Y_true) / n, 2)\n",
    "        return w_new, b_new"
   ]
  },
  {
   "cell_type": "code",
   "execution_count": 23,
   "id": "25e62039-afd6-4b5f-b9b6-19e95ce1d9e3",
   "metadata": {},
   "outputs": [
    {
     "name": "stdout",
     "output_type": "stream",
     "text": [
      "Y_pred =\n",
      "[20.25117263 30.71340201 34.76517902 27.73781982 33.90660393 31.57109421\n",
      " 30.10589834 23.64978334 28.05252085 30.27500722 26.70986507 31.17581744\n",
      " 26.08202475 33.08423536 32.36360403 28.47794428 26.34359811 34.14866342\n",
      " 26.80932188 23.40840877]\n",
      "Значение MSE = 1784.85\n",
      "Значение w_new = 0.92\n",
      "Значение b_new = 4.01\n"
     ]
    }
   ],
   "source": [
    "w = 0.5\n",
    "b = 4\n",
    "a = 0.0001\n",
    "gradient = Gradient(X, Y)\n",
    "Y_pred = gradient.predict (w, b)\n",
    "mse_1 = gradient.mse(y_pred)\n",
    "w_n, b_n = gradient.update(y_pred, w, b, a)\n",
    "\n",
    "print('Y_pred =', Y_pred, sep='\\n')\n",
    "print('Значение MSE =', round(mse_1, 2))\n",
    "print('Значение w_new =', w_n)\n",
    "print('Значение b_new =', b_n)\n"
   ]
  },
  {
   "cell_type": "code",
   "execution_count": 24,
   "id": "df346006",
   "metadata": {},
   "outputs": [],
   "source": [
    "class GradientDescent(Gradient):\n",
    "\n",
    "    def __init__(self, X, Y):\n",
    "        self.X = X\n",
    "        self.Y_true = Y\n",
    "        pass\n",
    "\n",
    "    def optimize(self, y_pred, num_iterations, a):                 \n",
    "        mse_new = super().mse(y_pred)\n",
    "        w_new, b_new = super().update(y_pred, w, b, a)\n",
    "        y_pred_new = super().predict (w_new, b_new)\n",
    "        mse_super_new = super().mse(y_pred_new)\n",
    "        for _ in range (num_iterations):\n",
    "            while abs(mse_super_new - mse_new) > stopping_threshold:\n",
    "                y_pred_new = super().predict (w_new, b_new)\n",
    "                w_new, b_new = super().update(y_pred_new, w_new, b_new, a)\n",
    "                mse_super_new = mse_new\n",
    "                mse_new = super().mse(y_pred_new)\n",
    "        return (w_new, b_new, mse_new)"
   ]
  },
  {
   "cell_type": "code",
   "execution_count": 25,
   "id": "07200188-e4ff-4c8b-a2a7-42de3772f11a",
   "metadata": {},
   "outputs": [
    {
     "name": "stdout",
     "output_type": "stream",
     "text": [
      "Финальное значение w: 1.31\n",
      "Финальное значение b: 4.01\n",
      "Финальное значение mse: 99.30624310479641\n"
     ]
    }
   ],
   "source": [
    "num_iterations = 1\n",
    "stopping_threshold = 0.001\n",
    "a = 0.0001\n",
    "w = 0.5\n",
    "b = 4\n",
    "gradient_descent = GradientDescent(X, Y)\n",
    "\n",
    "w_l, b_l, sttr_l = gradient_descent.optimize(y_pred, num_iterations, a)\n",
    "print('Финальное значение w:', w_l)\n",
    "print('Финальное значение b:', b_l)\n",
    "print('Финальное значение mse:', sttr_l)"
   ]
  },
  {
   "cell_type": "code",
   "execution_count": null,
   "id": "a653825a",
   "metadata": {},
   "outputs": [],
   "source": []
  }
 ],
 "metadata": {
  "kernelspec": {
   "display_name": "Python 3 (ipykernel)",
   "language": "python",
   "name": "python3"
  },
  "language_info": {
   "codemirror_mode": {
    "name": "ipython",
    "version": 3
   },
   "file_extension": ".py",
   "mimetype": "text/x-python",
   "name": "python",
   "nbconvert_exporter": "python",
   "pygments_lexer": "ipython3",
   "version": "3.10.11"
  }
 },
 "nbformat": 4,
 "nbformat_minor": 5
}
