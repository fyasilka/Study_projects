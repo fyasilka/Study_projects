{
 "cells": [
  {
   "cell_type": "code",
   "execution_count": null,
   "id": "291a0381",
   "metadata": {},
   "outputs": [],
   "source": [
    "import pandas as pd\n",
    "import sqlite3 as sq\n",
    "import numpy as np"
   ]
  },
  {
   "cell_type": "code",
   "execution_count": null,
   "id": "992407df",
   "metadata": {},
   "outputs": [],
   "source": [
    "#2 подключаюсь к бд\n",
    "con=sq.connect(\"../data/checking-logs.sqlite\")"
   ]
  },
  {
   "cell_type": "code",
   "execution_count": null,
   "id": "62b92296",
   "metadata": {},
   "outputs": [],
   "source": [
    "#3 получаю схему таблицы pageviews с помощью pd.io.sql.read_sql и запроса PRAGMA table_info(pageviews)\n",
    "pd.io.sql.read_sql(\"PRAGMA table_info(pageviews)\", con)"
   ]
  },
  {
   "cell_type": "code",
   "execution_count": null,
   "id": "91288b9e",
   "metadata": {},
   "outputs": [],
   "source": [
    "#4 Получаю только первые 10 строк таблицы pageviews, чтобы проверить, как она выглядит\n",
    "pd.io.sql.read_sql(\"SELECT * FROM (pageviews) LIMIT 10\", con)"
   ]
  },
  {
   "cell_type": "code",
   "execution_count": null,
   "id": "12de3d8a",
   "metadata": {},
   "outputs": [],
   "source": [
    "#5 Получаю подтаблицу \n",
    "pageviews = pd.io.sql.read_sql(\"SELECT datetime, uid FROM pageviews WHERE uid LIKE 'user_%' ORDER by uid\", con, index_col='datetime', parse_dates=['datetime'])\n",
    "pageviews.head(5)"
   ]
  },
  {
   "cell_type": "code",
   "execution_count": null,
   "id": "ed17e7b2",
   "metadata": {},
   "outputs": [],
   "source": [
    "#2 получаю схему таблицы checker\n",
    "pd.io.sql.read_sql(\"PRAGMA table_info(checker)\", con)"
   ]
  },
  {
   "cell_type": "code",
   "execution_count": null,
   "id": "b0d440c5",
   "metadata": {},
   "outputs": [],
   "source": [
    "#3 первые 10 строк checker\n",
    "pd.io.sql.read_sql(\"SELECT * FROM (checker) LIMIT 10\", con)"
   ]
  },
  {
   "cell_type": "code",
   "execution_count": null,
   "id": "adb3522e",
   "metadata": {},
   "outputs": [],
   "source": [
    "#4 Подсчитываю, сколько строк удовлетворяют следующим условиям\n",
    "pd.io.sql.read_sql(\"\"\"SELECT COUNT (uid) FROM pageviews WHERE uid IN (SELECT uid FROM checker WHERE status='ready' AND numTrials=1 AND \n",
    "                               labname IN ('project1', 'laba04', 'laba04s', 'laba05', 'laba06', 'laba06s'))\"\"\", con)"
   ]
  },
  {
   "cell_type": "code",
   "execution_count": null,
   "id": "666ea2fc",
   "metadata": {},
   "outputs": [],
   "source": [
    "from pandas import DataFrame"
   ]
  },
  {
   "cell_type": "code",
   "execution_count": null,
   "id": "072894b8",
   "metadata": {},
   "outputs": [],
   "source": [
    "#2 Создаю новую таблицу datamart в базе данных, объединив таблицы pageviews и checker\n",
    "datamart = pd.io.sql.read_sql(\"\"\"\n",
    "SELECT ch.uid, ch.labname, ch.timestamp AS first_commit_ts,\n",
    "MIN(page.datetime) AS first_view_ts\n",
    "FROM checker ch\n",
    "LEFT JOIN pageviews page\n",
    "ON ch.uid=page.uid\n",
    "WHERE ch.status='ready' AND ch.numTrials=1 AND ch.labname IN ('laba04','laba04s','laba05','laba06','laba06s','project1')AND ch.uid LIKE 'user_%'\n",
    "GROUP BY ch.timestamp, ch.uid;\"\"\", \n",
    "con, parse_dates=['first_commit_ts', 'first_view_ts'])\n",
    "datamart.to_sql('datamart', con, if_exists='replace')  "
   ]
  },
  {
   "cell_type": "code",
   "execution_count": null,
   "id": "31075166",
   "metadata": {},
   "outputs": [],
   "source": [
    "#3 Создаю новую таблицу datamart в базе данных, объединив таблицы pageviews и checker\n",
    "#убираю все пропущенные в first_view_ts\n",
    "test = datamart.dropna().copy()\n",
    "#использую пропущенные в first_view_ts\n",
    "control = datamart[datamart.first_view_ts.isna()].copy()\n",
    "#заменяю пропущенные значения в control средним значением first_view_ts пользователей из test\n",
    "control.first_view_ts = test.first_view_ts.mean()\n",
    "test.to_sql('test', con, if_exists='replace')\n",
    "control.to_sql('control', con, if_exists='replace')"
   ]
  },
  {
   "cell_type": "code",
   "execution_count": null,
   "id": "d24f6c22",
   "metadata": {},
   "outputs": [],
   "source": [
    "#2 схема таблицы test\n",
    "pd.io.sql.read_sql(\"PRAGMA table_info(test)\", con)"
   ]
  },
  {
   "cell_type": "code",
   "execution_count": null,
   "id": "c6ec7621",
   "metadata": {},
   "outputs": [],
   "source": [
    "#3 первые 10 строк таблицы test\n",
    "pd.io.sql.read_sql(\"SELECT * FROM (test) LIMIT 10\", con)"
   ]
  },
  {
   "cell_type": "code",
   "execution_count": null,
   "id": "ff1d5de1",
   "metadata": {},
   "outputs": [],
   "source": [
    "import datetime\n",
    "from datetime import date, timedelta"
   ]
  },
  {
   "cell_type": "code",
   "execution_count": null,
   "id": "fb6a9716",
   "metadata": {},
   "outputs": [],
   "source": [
    "#4 стоит рассматривать значение по модулю\n",
    "#Найди среди всех пользователей минимальное значение этой самой дельты (периода времени от даты первого коммита пользователя до срока сдачи соответствующего лабораторного задания)\n",
    "df_min = pd.io.sql.read_sql(\"\"\"\n",
    "SELECT tx.uid, CAST(MIN(JULIANDAY(tx.first_commit_ts) - JULIANDAY(dl.deadlines, 'unixepoch'))*24 AS INTEGER) AS 'MIN(diff)'\n",
    "FROM test  tx\n",
    "LEFT JOIN deadlines dl\n",
    "ON tx.labname = dl.labs\n",
    "WHERE tx.labname IN ('laba04','laba04s','laba05','laba06','laba06s');\"\"\", \n",
    "                            con)\n",
    "df_min.to_sql('df_min', con, if_exists='replace')\n",
    "df_min"
   ]
  },
  {
   "cell_type": "code",
   "execution_count": null,
   "id": "ada2586e",
   "metadata": {},
   "outputs": [],
   "source": [
    "#5 Выполни те же самые операции для максимального значения дельты, используя только один запрос. Название итогового датафрейма — df_max\n",
    "df_max = pd.io.sql.read_sql(\"\"\"\n",
    "SELECT tx.uid, CAST(MAX(JULIANDAY(tx.first_commit_ts) - JULIANDAY(dl.deadlines, 'unixepoch'))*24 AS INTEGER) AS 'MAX(diff)'\n",
    "FROM test  tx\n",
    "LEFT JOIN deadlines dl\n",
    "ON tx.labname = dl.labs\n",
    "WHERE tx.labname IN ('laba04','laba04s','laba05','laba06','laba06s');\"\"\", \n",
    "                            con)\n",
    "df_max.to_sql('df_max', con, if_exists='replace')\n",
    "df_max"
   ]
  },
  {
   "cell_type": "code",
   "execution_count": null,
   "id": "80c4d857",
   "metadata": {},
   "outputs": [],
   "source": [
    "#6 Выполни те же самые операции для среднего значения дельты, используя только один запрос. На этот раз ваш итоговый датафрейм не должен включать столбец uid; имя датафрейма — df_avg.\n",
    "df_avg  = pd.io.sql.read_sql(\"\"\"\n",
    "SELECT CAST(AVG(JULIANDAY(tx.first_commit_ts) - JULIANDAY(dl.deadlines, 'unixepoch'))*24 AS INTEGER) AS 'avg(diff)'\n",
    "FROM test  tx\n",
    "LEFT JOIN deadlines dl\n",
    "ON tx.labname = dl.labs\n",
    "WHERE tx.labname IN ('laba04','laba04s','laba05','laba06','laba06s');\"\"\", \n",
    "                            con)\n",
    "df_avg.to_sql('df_avg', con, if_exists='replace')\n",
    "df_avg"
   ]
  },
  {
   "cell_type": "code",
   "execution_count": null,
   "id": "8e9d6fcb",
   "metadata": {},
   "outputs": [],
   "source": [
    "#7\n",
    "#SQL оператор DISTINCT используется для удаления дубликатов из результирующего набора оператора SELECT.\n",
    "views_diff = pd.io.sql.read_sql(\"\"\"\n",
    "SELECT DISTINCT t.uid, t.avg_diff, p.pageviews \n",
    "FROM (SELECT uid, AVG(cast((JULIANDAY(test.first_commit_ts) - \n",
    "            JULIANDAY(dl.deadlines, 'unixepoch'))*24 AS integer)) AS avg_diff\n",
    "            FROM test\n",
    "            LEFT JOIN deadlines dl\n",
    "            ON test.labname = dl.labs\n",
    "            WHERE test.labname IN ('laba04', 'laba04s', 'laba05', 'laba06', 'laba06s')\n",
    "            GROUP BY uid) \n",
    "AS t\n",
    "LEFT JOIN (SELECT uid, COUNT(datetime) AS pageviews\n",
    "FROM pageviews\n",
    "GROUP BY uid) AS p\n",
    "ON t.uid = p.uid\"\"\", con, index_col='uid')\n",
    "views_diff.to_sql('df_avg', con, if_exists='replace')\n",
    "views_diff  "
   ]
  },
  {
   "cell_type": "code",
   "execution_count": null,
   "id": "02eef8a9",
   "metadata": {},
   "outputs": [],
   "source": [
    "# Предназначение корреляционного анализа сводится к выявлению наличия зависимости между различными факторами. \n",
    "# Коэффициент корреляции принимает значения от -1 до+ 1. \n",
    "# Положительное значение коэффициента корреляции свидетельствует о наличии прямой связи, отрицательное – обратной.\n",
    "views_diff.corr()"
   ]
  },
  {
   "cell_type": "code",
   "execution_count": null,
   "id": "048f0184",
   "metadata": {},
   "outputs": [],
   "source": [
    "# первый просмотр ленты наименьшее значение min_view\n",
    "# сначала проверяем пользователей которые сдали задание до первого просмотра test.first_commit_ts < min_view.min_view\n",
    "# потом проверяем пользователей которые сдали после первого просмотра test.first_commit_ts > min_view.min_view\n",
    "# запрос из двух частей, после они соединяются с помощью команды union, она дополняет таблицу после первого запроса\n",
    "\n",
    "test_results = pd.io.sql.read_sql(\"\"\"\n",
    "SELECT  times, AVG(diff)\n",
    "FROM\n",
    "     (SELECT uid, 'before' AS 'times', (diff)\n",
    "      FROM \n",
    "          (SELECT uid, AVG(cast((JULIANDAY(test.first_commit_ts) - JULIANDAY(dl.deadlines, 'unixepoch'))*24 AS integer)) AS diff \n",
    "           FROM test \n",
    "           LEFT JOIN deadlines AS dl, \n",
    "                (SELECT uid AS id, min(first_view_ts) AS min_view\n",
    "                FROM test\n",
    "                GROUP BY uid) AS min_view\n",
    "           ON test.labname = dl.labs AND test.uid = min_view.id \n",
    "           WHERE test.labname IN ('laba04', 'laba04s', 'laba05', 'laba06', 'laba06s') \n",
    "                AND test.first_commit_ts < min_view.min_view\n",
    "                GROUP BY uid)\n",
    "UNION\n",
    "SELECT uid, 'after' AS 'times', (diff)\n",
    "FROM \n",
    "    (SELECT uid, AVG(cast((JULIANDAY(test.first_commit_ts) - JULIANDAY(dl.deadlines, 'unixepoch'))*24 AS integer)) AS diff \n",
    "     FROM test \n",
    "     LEFT JOIN deadlines AS dl, \n",
    "                (SELECT uid AS id, min(first_view_ts) AS min_view\n",
    "                FROM test\n",
    "                GROUP BY uid) AS min_view\n",
    "     ON test.labname = dl.labs AND test.uid = min_view.id \n",
    "     WHERE test.labname IN ('laba04', 'laba04s', 'laba05', 'laba06', 'laba06s') \n",
    "                AND test.first_commit_ts > min_view.min_view AND test.uid IN \n",
    "                    (SELECT uid \n",
    "                    FROM test \n",
    "                    LEFT JOIN deadlines AS dl, \n",
    "                        (select uid AS id, min(first_view_ts) AS min_view\n",
    "                        FROM test\n",
    "                        GROUP BY uid) AS min_view\n",
    "                    ON test.labname = dl.labs AND test.uid = min_view.id \n",
    "                    WHERE test.labname IN ('laba04', 'laba04s', 'laba05', 'laba06', 'laba06s')\n",
    "                        AND test.first_commit_ts < min_view.min_view\n",
    "                    GROUP BY uid)\n",
    "                GROUP BY uid))\n",
    "        group by times\"\"\",\n",
    "            con)\n",
    "test_results"
   ]
  },
  {
   "cell_type": "code",
   "execution_count": null,
   "id": "60545dd6",
   "metadata": {},
   "outputs": [],
   "source": [
    "control_results = pd.io.sql.read_sql(\"\"\"\n",
    "SELECT  times, AVG(diff)\n",
    "FROM\n",
    "     (SELECT uid, 'before' AS 'times', (diff)\n",
    "      FROM \n",
    "          (SELECT uid, AVG(cast((JULIANDAY(control.first_commit_ts) - JULIANDAY(dl.deadlines, 'unixepoch'))*24 AS integer)) AS diff \n",
    "           FROM control \n",
    "           LEFT JOIN deadlines AS dl, \n",
    "                (SELECT uid AS id, min(first_view_ts) AS min_view\n",
    "                FROM control\n",
    "                GROUP BY uid) AS min_view\n",
    "           ON control.labname = dl.labs AND control.uid = min_view.id \n",
    "           WHERE control.labname IN ('laba04', 'laba04s', 'laba05', 'laba06', 'laba06s') \n",
    "                AND control.first_commit_ts < min_view.min_view\n",
    "                GROUP BY uid)\n",
    "UNION\n",
    "SELECT uid, 'after' AS 'times', (diff)\n",
    "FROM \n",
    "    (SELECT uid, AVG(cast((JULIANDAY(control.first_commit_ts) - JULIANDAY(dl.deadlines, 'unixepoch'))*24 AS integer)) AS diff \n",
    "     FROM control \n",
    "     LEFT JOIN deadlines AS dl, \n",
    "                (SELECT uid AS id, min(first_view_ts) AS min_view\n",
    "                FROM control\n",
    "                GROUP BY uid) AS min_view\n",
    "     ON control.labname = dl.labs AND control.uid = min_view.id \n",
    "     WHERE control.labname IN ('laba04', 'laba04s', 'laba05', 'laba06', 'laba06s') \n",
    "                AND control.first_commit_ts > min_view.min_view AND control.uid IN \n",
    "                    (SELECT uid \n",
    "                    FROM control \n",
    "                    LEFT JOIN deadlines AS dl, \n",
    "                        (select uid AS id, min(first_view_ts) AS min_view\n",
    "                        FROM control\n",
    "                        GROUP BY uid) AS min_view\n",
    "                    ON control.labname = dl.labs AND control.uid = min_view.id \n",
    "                    WHERE control.labname IN ('laba04', 'laba04s', 'laba05', 'laba06', 'laba06s')\n",
    "                        AND control.first_commit_ts < min_view.min_view\n",
    "                    GROUP BY uid)\n",
    "                GROUP BY uid))\n",
    "        group by times\"\"\",\n",
    "            con)\n",
    "control_results"
   ]
  },
  {
   "cell_type": "code",
   "execution_count": null,
   "id": "9ee5cb7c",
   "metadata": {},
   "outputs": [],
   "source": [
    "con.close()"
   ]
  },
  {
   "cell_type": "markdown",
   "id": "d76d112d",
   "metadata": {},
   "source": [
    "##  Дайте ответ: оказалось ли предположение верным и влияет ли наличие страницы с новостной лентой на поведение учащихся?"
   ]
  },
  {
   "cell_type": "markdown",
   "id": "67c5a0ae",
   "metadata": {},
   "source": [
    "Да, влияет: модуль разности между временем от даты первого коммита пользователя до срока сдачи соответствующего лабораторного задания отличается у тестовой группы. "
   ]
  }
 ],
 "metadata": {
  "kernelspec": {
   "display_name": "Python 3 (ipykernel)",
   "language": "python",
   "name": "python3"
  },
  "language_info": {
   "codemirror_mode": {
    "name": "ipython",
    "version": 3
   },
   "file_extension": ".py",
   "mimetype": "text/x-python",
   "name": "python",
   "nbconvert_exporter": "python",
   "pygments_lexer": "ipython3",
   "version": "3.10.11"
  }
 },
 "nbformat": 4,
 "nbformat_minor": 5
}
